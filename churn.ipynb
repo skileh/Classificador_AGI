{
 "cells": [
  {
   "cell_type": "code",
   "execution_count": 1,
   "id": "faeac8b2",
   "metadata": {
    "_cell_guid": "5589d75b-4ad2-40c3-bbad-2c68e1ac96d0",
    "_uuid": "82c2edd4-b01c-4df4-863a-491cf3bdcfa7",
    "collapsed": false,
    "execution": {
     "iopub.execute_input": "2021-10-24T03:17:16.279808Z",
     "iopub.status.busy": "2021-10-24T03:17:16.279235Z",
     "iopub.status.idle": "2021-10-24T03:17:17.544225Z",
     "shell.execute_reply": "2021-10-24T03:17:17.543714Z",
     "shell.execute_reply.started": "2021-10-24T03:11:38.142770Z"
    },
    "jupyter": {
     "outputs_hidden": false
    },
    "papermill": {
     "duration": 1.299595,
     "end_time": "2021-10-24T03:17:17.544364",
     "exception": false,
     "start_time": "2021-10-24T03:17:16.244769",
     "status": "completed"
    },
    "tags": []
   },
   "outputs": [
    {
     "name": "stdout",
     "output_type": "stream",
     "text": [
      "/kaggle/input/churn-data/BankChurners.csv\n"
     ]
    }
   ],
   "source": [
    "# This Python 3 environment comes with many helpful analytics libraries installed\n",
    "# It is defined by the kaggle/python Docker image: https://github.com/kaggle/docker-python\n",
    "# For example, here's several helpful packages to load\n",
    "\n",
    "import numpy as np # linear algebra\n",
    "import pandas as pd # data processing, CSV file I/O (e.g. pd.read_csv)\n",
    "\n",
    "# Input data files are available in the read-only \"../input/\" directory\n",
    "# For example, running this (by clicking run or pressing Shift+Enter) will list all files under the input directory\n",
    "\n",
    "import os\n",
    "for dirname, _, filenames in os.walk('/kaggle/input'):\n",
    "    for filename in filenames:\n",
    "        print(os.path.join(dirname, filename))\n",
    "\n",
    "from sklearn.preprocessing import LabelEncoder\n",
    "from sklearn.model_selection import train_test_split\n",
    "from sklearn.metrics import accuracy_score\n",
    "from sklearn import model_selection, svm\n",
    "\n",
    "import seaborn as sns; sns.set_theme()\n",
    "from sklearn.metrics import classification_report\n",
    "import matplotlib.pyplot as plt\n",
    "from sklearn.model_selection import cross_val_predict\n",
    "from sklearn.ensemble import RandomForestClassifier\n",
    "from sklearn.metrics import confusion_matrix\n",
    "from sklearn.model_selection import StratifiedKFold\n",
    "# You can write up to 20GB to the current directory (/kaggle/working/) that gets preserved as output when you create a version using \"Save & Run All\" \n",
    "# You can also write temporary files to /kaggle/temp/, but they won't be saved outside of the current session"
   ]
  },
  {
   "cell_type": "markdown",
   "id": "e363743d",
   "metadata": {
    "_cell_guid": "229c3071-3b0e-4752-a14f-a8b5a5f3d9c5",
    "_uuid": "3156282e-1d29-48f6-a039-7f23f9ccb060",
    "papermill": {
     "duration": 0.025074,
     "end_time": "2021-10-24T03:17:17.596914",
     "exception": false,
     "start_time": "2021-10-24T03:17:17.571840",
     "status": "completed"
    },
    "tags": []
   },
   "source": [
    "# importando nosso dataframe"
   ]
  },
  {
   "cell_type": "code",
   "execution_count": 2,
   "id": "e1d6fbbd",
   "metadata": {
    "_cell_guid": "39d96cb3-9465-437e-9fe0-b6ac747306c2",
    "_uuid": "2292d97c-bef0-44aa-953c-fa8ec7f2efaa",
    "collapsed": false,
    "execution": {
     "iopub.execute_input": "2021-10-24T03:17:17.651682Z",
     "iopub.status.busy": "2021-10-24T03:17:17.651199Z",
     "iopub.status.idle": "2021-10-24T03:17:17.710128Z",
     "shell.execute_reply": "2021-10-24T03:17:17.709627Z",
     "shell.execute_reply.started": "2021-10-24T03:11:39.565771Z"
    },
    "jupyter": {
     "outputs_hidden": false
    },
    "papermill": {
     "duration": 0.087857,
     "end_time": "2021-10-24T03:17:17.710236",
     "exception": false,
     "start_time": "2021-10-24T03:17:17.622379",
     "status": "completed"
    },
    "tags": []
   },
   "outputs": [],
   "source": [
    "#carrega a base de treino\n",
    "df=pd.read_csv(r\"../input/churn-data/BankChurners.csv\",encoding='latin-1')"
   ]
  },
  {
   "cell_type": "markdown",
   "id": "f186f5d6",
   "metadata": {
    "_cell_guid": "97233369-8bea-4a9f-b5cc-6a43516d3348",
    "_uuid": "32d2776b-f7ed-4690-b408-3d133a75034f",
    "papermill": {
     "duration": 0.025261,
     "end_time": "2021-10-24T03:17:17.760966",
     "exception": false,
     "start_time": "2021-10-24T03:17:17.735705",
     "status": "completed"
    },
    "tags": []
   },
   "source": [
    "# Removendo colunas desnecessarias"
   ]
  },
  {
   "cell_type": "markdown",
   "id": "3e0f1d2f",
   "metadata": {
    "_cell_guid": "bc69016b-6d31-4e4f-a852-b7a70966699a",
    "_uuid": "fb97fd9a-13d8-42a8-be8f-7dadc829dba7",
    "papermill": {
     "duration": 0.024697,
     "end_time": "2021-10-24T03:17:17.810866",
     "exception": false,
     "start_time": "2021-10-24T03:17:17.786169",
     "status": "completed"
    },
    "tags": []
   },
   "source": [
    "as duas ultimas colunas causam sobreajuste dos dados."
   ]
  },
  {
   "cell_type": "code",
   "execution_count": 3,
   "id": "7f9626cb",
   "metadata": {
    "_cell_guid": "f45144cc-7a3f-4c78-b1ab-aa09aa970409",
    "_uuid": "d7d3d0a3-4d3b-4e89-a88d-23e85c93f706",
    "collapsed": false,
    "execution": {
     "iopub.execute_input": "2021-10-24T03:17:17.874144Z",
     "iopub.status.busy": "2021-10-24T03:17:17.870800Z",
     "iopub.status.idle": "2021-10-24T03:17:17.877916Z",
     "shell.execute_reply": "2021-10-24T03:17:17.877365Z",
     "shell.execute_reply.started": "2021-10-24T03:11:39.638870Z"
    },
    "jupyter": {
     "outputs_hidden": false
    },
    "papermill": {
     "duration": 0.040341,
     "end_time": "2021-10-24T03:17:17.878041",
     "exception": false,
     "start_time": "2021-10-24T03:17:17.837700",
     "status": "completed"
    },
    "tags": []
   },
   "outputs": [],
   "source": [
    "x = df.drop(['Naive_Bayes_Classifier_Attrition_Flag_Card_Category_Contacts_Count_12_mon_Dependent_count_Education_Level_Months_Inactive_12_mon_1',\n",
    "             'Naive_Bayes_Classifier_Attrition_Flag_Card_Category_Contacts_Count_12_mon_Dependent_count_Education_Level_Months_Inactive_12_mon_2'\n",
    "             ,'Attrition_Flag','CLIENTNUM'],axis='columns')"
   ]
  },
  {
   "cell_type": "markdown",
   "id": "e45366c2",
   "metadata": {
    "_cell_guid": "652769db-da88-4291-ad1c-65bfb0039e7b",
    "_uuid": "87e80543-f76b-49e9-af37-92009c4be303",
    "papermill": {
     "duration": 0.038994,
     "end_time": "2021-10-24T03:17:17.956354",
     "exception": false,
     "start_time": "2021-10-24T03:17:17.917360",
     "status": "completed"
    },
    "tags": []
   },
   "source": [
    "# Como os dados se comportam ?"
   ]
  },
  {
   "cell_type": "code",
   "execution_count": 4,
   "id": "fd1c073b",
   "metadata": {
    "_cell_guid": "e56397f3-0625-495b-8bc5-c05653aa7005",
    "_uuid": "370f1f80-80d5-4f05-bbfa-6beee64a4f91",
    "collapsed": false,
    "execution": {
     "iopub.execute_input": "2021-10-24T03:17:18.037587Z",
     "iopub.status.busy": "2021-10-24T03:17:18.036963Z",
     "iopub.status.idle": "2021-10-24T03:17:18.066956Z",
     "shell.execute_reply": "2021-10-24T03:17:18.067459Z",
     "shell.execute_reply.started": "2021-10-24T03:11:39.653948Z"
    },
    "jupyter": {
     "outputs_hidden": false
    },
    "papermill": {
     "duration": 0.072186,
     "end_time": "2021-10-24T03:17:18.067629",
     "exception": false,
     "start_time": "2021-10-24T03:17:17.995443",
     "status": "completed"
    },
    "tags": []
   },
   "outputs": [
    {
     "data": {
      "text/html": [
       "<div>\n",
       "<style scoped>\n",
       "    .dataframe tbody tr th:only-of-type {\n",
       "        vertical-align: middle;\n",
       "    }\n",
       "\n",
       "    .dataframe tbody tr th {\n",
       "        vertical-align: top;\n",
       "    }\n",
       "\n",
       "    .dataframe thead th {\n",
       "        text-align: right;\n",
       "    }\n",
       "</style>\n",
       "<table border=\"1\" class=\"dataframe\">\n",
       "  <thead>\n",
       "    <tr style=\"text-align: right;\">\n",
       "      <th></th>\n",
       "      <th>CLIENTNUM</th>\n",
       "      <th>Attrition_Flag</th>\n",
       "      <th>Customer_Age</th>\n",
       "      <th>Gender</th>\n",
       "      <th>Dependent_count</th>\n",
       "      <th>Education_Level</th>\n",
       "      <th>Marital_Status</th>\n",
       "      <th>Income_Category</th>\n",
       "      <th>Card_Category</th>\n",
       "      <th>Months_on_book</th>\n",
       "      <th>...</th>\n",
       "      <th>Credit_Limit</th>\n",
       "      <th>Total_Revolving_Bal</th>\n",
       "      <th>Avg_Open_To_Buy</th>\n",
       "      <th>Total_Amt_Chng_Q4_Q1</th>\n",
       "      <th>Total_Trans_Amt</th>\n",
       "      <th>Total_Trans_Ct</th>\n",
       "      <th>Total_Ct_Chng_Q4_Q1</th>\n",
       "      <th>Avg_Utilization_Ratio</th>\n",
       "      <th>Naive_Bayes_Classifier_Attrition_Flag_Card_Category_Contacts_Count_12_mon_Dependent_count_Education_Level_Months_Inactive_12_mon_1</th>\n",
       "      <th>Naive_Bayes_Classifier_Attrition_Flag_Card_Category_Contacts_Count_12_mon_Dependent_count_Education_Level_Months_Inactive_12_mon_2</th>\n",
       "    </tr>\n",
       "  </thead>\n",
       "  <tbody>\n",
       "    <tr>\n",
       "      <th>4822</th>\n",
       "      <td>716680983</td>\n",
       "      <td>Existing Customer</td>\n",
       "      <td>41</td>\n",
       "      <td>F</td>\n",
       "      <td>3</td>\n",
       "      <td>Doctorate</td>\n",
       "      <td>Married</td>\n",
       "      <td>Less than $40K</td>\n",
       "      <td>Blue</td>\n",
       "      <td>36</td>\n",
       "      <td>...</td>\n",
       "      <td>1956.0</td>\n",
       "      <td>1053</td>\n",
       "      <td>903.0</td>\n",
       "      <td>0.941</td>\n",
       "      <td>4924</td>\n",
       "      <td>70</td>\n",
       "      <td>0.795</td>\n",
       "      <td>0.538</td>\n",
       "      <td>0.000050</td>\n",
       "      <td>0.999950</td>\n",
       "    </tr>\n",
       "    <tr>\n",
       "      <th>9338</th>\n",
       "      <td>716296833</td>\n",
       "      <td>Existing Customer</td>\n",
       "      <td>56</td>\n",
       "      <td>M</td>\n",
       "      <td>0</td>\n",
       "      <td>Doctorate</td>\n",
       "      <td>Single</td>\n",
       "      <td>$80K - $120K</td>\n",
       "      <td>Blue</td>\n",
       "      <td>47</td>\n",
       "      <td>...</td>\n",
       "      <td>7204.0</td>\n",
       "      <td>0</td>\n",
       "      <td>7204.0</td>\n",
       "      <td>0.803</td>\n",
       "      <td>14042</td>\n",
       "      <td>113</td>\n",
       "      <td>0.766</td>\n",
       "      <td>0.000</td>\n",
       "      <td>0.000068</td>\n",
       "      <td>0.999930</td>\n",
       "    </tr>\n",
       "    <tr>\n",
       "      <th>7375</th>\n",
       "      <td>711992133</td>\n",
       "      <td>Existing Customer</td>\n",
       "      <td>53</td>\n",
       "      <td>F</td>\n",
       "      <td>1</td>\n",
       "      <td>Uneducated</td>\n",
       "      <td>Married</td>\n",
       "      <td>Less than $40K</td>\n",
       "      <td>Blue</td>\n",
       "      <td>41</td>\n",
       "      <td>...</td>\n",
       "      <td>2596.0</td>\n",
       "      <td>868</td>\n",
       "      <td>1728.0</td>\n",
       "      <td>0.743</td>\n",
       "      <td>4801</td>\n",
       "      <td>72</td>\n",
       "      <td>0.714</td>\n",
       "      <td>0.334</td>\n",
       "      <td>0.000110</td>\n",
       "      <td>0.999890</td>\n",
       "    </tr>\n",
       "    <tr>\n",
       "      <th>377</th>\n",
       "      <td>714217908</td>\n",
       "      <td>Existing Customer</td>\n",
       "      <td>49</td>\n",
       "      <td>M</td>\n",
       "      <td>3</td>\n",
       "      <td>Graduate</td>\n",
       "      <td>Married</td>\n",
       "      <td>$40K - $60K</td>\n",
       "      <td>Blue</td>\n",
       "      <td>41</td>\n",
       "      <td>...</td>\n",
       "      <td>2406.0</td>\n",
       "      <td>1560</td>\n",
       "      <td>846.0</td>\n",
       "      <td>0.751</td>\n",
       "      <td>1173</td>\n",
       "      <td>32</td>\n",
       "      <td>0.391</td>\n",
       "      <td>0.648</td>\n",
       "      <td>0.000187</td>\n",
       "      <td>0.999810</td>\n",
       "    </tr>\n",
       "    <tr>\n",
       "      <th>9756</th>\n",
       "      <td>708385533</td>\n",
       "      <td>Attrited Customer</td>\n",
       "      <td>49</td>\n",
       "      <td>F</td>\n",
       "      <td>1</td>\n",
       "      <td>Graduate</td>\n",
       "      <td>Married</td>\n",
       "      <td>Less than $40K</td>\n",
       "      <td>Silver</td>\n",
       "      <td>36</td>\n",
       "      <td>...</td>\n",
       "      <td>11059.0</td>\n",
       "      <td>0</td>\n",
       "      <td>11059.0</td>\n",
       "      <td>0.990</td>\n",
       "      <td>9524</td>\n",
       "      <td>80</td>\n",
       "      <td>0.905</td>\n",
       "      <td>0.000</td>\n",
       "      <td>0.996120</td>\n",
       "      <td>0.003881</td>\n",
       "    </tr>\n",
       "    <tr>\n",
       "      <th>7706</th>\n",
       "      <td>797218233</td>\n",
       "      <td>Existing Customer</td>\n",
       "      <td>51</td>\n",
       "      <td>F</td>\n",
       "      <td>2</td>\n",
       "      <td>Unknown</td>\n",
       "      <td>Single</td>\n",
       "      <td>Less than $40K</td>\n",
       "      <td>Blue</td>\n",
       "      <td>45</td>\n",
       "      <td>...</td>\n",
       "      <td>1757.0</td>\n",
       "      <td>0</td>\n",
       "      <td>1757.0</td>\n",
       "      <td>0.533</td>\n",
       "      <td>4550</td>\n",
       "      <td>82</td>\n",
       "      <td>0.547</td>\n",
       "      <td>0.000</td>\n",
       "      <td>0.000022</td>\n",
       "      <td>0.999980</td>\n",
       "    </tr>\n",
       "    <tr>\n",
       "      <th>4361</th>\n",
       "      <td>711047658</td>\n",
       "      <td>Existing Customer</td>\n",
       "      <td>46</td>\n",
       "      <td>F</td>\n",
       "      <td>3</td>\n",
       "      <td>High School</td>\n",
       "      <td>Married</td>\n",
       "      <td>Less than $40K</td>\n",
       "      <td>Blue</td>\n",
       "      <td>38</td>\n",
       "      <td>...</td>\n",
       "      <td>1781.0</td>\n",
       "      <td>1315</td>\n",
       "      <td>466.0</td>\n",
       "      <td>0.704</td>\n",
       "      <td>4775</td>\n",
       "      <td>83</td>\n",
       "      <td>0.729</td>\n",
       "      <td>0.738</td>\n",
       "      <td>0.000115</td>\n",
       "      <td>0.999890</td>\n",
       "    </tr>\n",
       "    <tr>\n",
       "      <th>5746</th>\n",
       "      <td>720853158</td>\n",
       "      <td>Existing Customer</td>\n",
       "      <td>38</td>\n",
       "      <td>F</td>\n",
       "      <td>3</td>\n",
       "      <td>High School</td>\n",
       "      <td>Single</td>\n",
       "      <td>Unknown</td>\n",
       "      <td>Blue</td>\n",
       "      <td>24</td>\n",
       "      <td>...</td>\n",
       "      <td>13951.0</td>\n",
       "      <td>1607</td>\n",
       "      <td>12344.0</td>\n",
       "      <td>0.932</td>\n",
       "      <td>4576</td>\n",
       "      <td>70</td>\n",
       "      <td>0.591</td>\n",
       "      <td>0.115</td>\n",
       "      <td>0.000305</td>\n",
       "      <td>0.999690</td>\n",
       "    </tr>\n",
       "    <tr>\n",
       "      <th>5808</th>\n",
       "      <td>815088483</td>\n",
       "      <td>Existing Customer</td>\n",
       "      <td>28</td>\n",
       "      <td>F</td>\n",
       "      <td>1</td>\n",
       "      <td>Graduate</td>\n",
       "      <td>Divorced</td>\n",
       "      <td>Less than $40K</td>\n",
       "      <td>Blue</td>\n",
       "      <td>23</td>\n",
       "      <td>...</td>\n",
       "      <td>2543.0</td>\n",
       "      <td>1156</td>\n",
       "      <td>1387.0</td>\n",
       "      <td>0.641</td>\n",
       "      <td>3864</td>\n",
       "      <td>64</td>\n",
       "      <td>0.684</td>\n",
       "      <td>0.455</td>\n",
       "      <td>0.000087</td>\n",
       "      <td>0.999910</td>\n",
       "    </tr>\n",
       "    <tr>\n",
       "      <th>8492</th>\n",
       "      <td>779247483</td>\n",
       "      <td>Attrited Customer</td>\n",
       "      <td>46</td>\n",
       "      <td>F</td>\n",
       "      <td>1</td>\n",
       "      <td>Uneducated</td>\n",
       "      <td>Unknown</td>\n",
       "      <td>Unknown</td>\n",
       "      <td>Blue</td>\n",
       "      <td>28</td>\n",
       "      <td>...</td>\n",
       "      <td>2069.0</td>\n",
       "      <td>0</td>\n",
       "      <td>2069.0</td>\n",
       "      <td>0.656</td>\n",
       "      <td>2754</td>\n",
       "      <td>55</td>\n",
       "      <td>0.667</td>\n",
       "      <td>0.000</td>\n",
       "      <td>0.998960</td>\n",
       "      <td>0.001043</td>\n",
       "    </tr>\n",
       "  </tbody>\n",
       "</table>\n",
       "<p>10 rows × 23 columns</p>\n",
       "</div>"
      ],
      "text/plain": [
       "      CLIENTNUM     Attrition_Flag  Customer_Age Gender  Dependent_count  \\\n",
       "4822  716680983  Existing Customer            41      F                3   \n",
       "9338  716296833  Existing Customer            56      M                0   \n",
       "7375  711992133  Existing Customer            53      F                1   \n",
       "377   714217908  Existing Customer            49      M                3   \n",
       "9756  708385533  Attrited Customer            49      F                1   \n",
       "7706  797218233  Existing Customer            51      F                2   \n",
       "4361  711047658  Existing Customer            46      F                3   \n",
       "5746  720853158  Existing Customer            38      F                3   \n",
       "5808  815088483  Existing Customer            28      F                1   \n",
       "8492  779247483  Attrited Customer            46      F                1   \n",
       "\n",
       "     Education_Level Marital_Status Income_Category Card_Category  \\\n",
       "4822       Doctorate        Married  Less than $40K          Blue   \n",
       "9338       Doctorate         Single    $80K - $120K          Blue   \n",
       "7375      Uneducated        Married  Less than $40K          Blue   \n",
       "377         Graduate        Married     $40K - $60K          Blue   \n",
       "9756        Graduate        Married  Less than $40K        Silver   \n",
       "7706         Unknown         Single  Less than $40K          Blue   \n",
       "4361     High School        Married  Less than $40K          Blue   \n",
       "5746     High School         Single         Unknown          Blue   \n",
       "5808        Graduate       Divorced  Less than $40K          Blue   \n",
       "8492      Uneducated        Unknown         Unknown          Blue   \n",
       "\n",
       "      Months_on_book  ...  Credit_Limit  Total_Revolving_Bal  Avg_Open_To_Buy  \\\n",
       "4822              36  ...        1956.0                 1053            903.0   \n",
       "9338              47  ...        7204.0                    0           7204.0   \n",
       "7375              41  ...        2596.0                  868           1728.0   \n",
       "377               41  ...        2406.0                 1560            846.0   \n",
       "9756              36  ...       11059.0                    0          11059.0   \n",
       "7706              45  ...        1757.0                    0           1757.0   \n",
       "4361              38  ...        1781.0                 1315            466.0   \n",
       "5746              24  ...       13951.0                 1607          12344.0   \n",
       "5808              23  ...        2543.0                 1156           1387.0   \n",
       "8492              28  ...        2069.0                    0           2069.0   \n",
       "\n",
       "      Total_Amt_Chng_Q4_Q1  Total_Trans_Amt  Total_Trans_Ct  \\\n",
       "4822                 0.941             4924              70   \n",
       "9338                 0.803            14042             113   \n",
       "7375                 0.743             4801              72   \n",
       "377                  0.751             1173              32   \n",
       "9756                 0.990             9524              80   \n",
       "7706                 0.533             4550              82   \n",
       "4361                 0.704             4775              83   \n",
       "5746                 0.932             4576              70   \n",
       "5808                 0.641             3864              64   \n",
       "8492                 0.656             2754              55   \n",
       "\n",
       "      Total_Ct_Chng_Q4_Q1  Avg_Utilization_Ratio  \\\n",
       "4822                0.795                  0.538   \n",
       "9338                0.766                  0.000   \n",
       "7375                0.714                  0.334   \n",
       "377                 0.391                  0.648   \n",
       "9756                0.905                  0.000   \n",
       "7706                0.547                  0.000   \n",
       "4361                0.729                  0.738   \n",
       "5746                0.591                  0.115   \n",
       "5808                0.684                  0.455   \n",
       "8492                0.667                  0.000   \n",
       "\n",
       "      Naive_Bayes_Classifier_Attrition_Flag_Card_Category_Contacts_Count_12_mon_Dependent_count_Education_Level_Months_Inactive_12_mon_1  \\\n",
       "4822                                           0.000050                                                                                    \n",
       "9338                                           0.000068                                                                                    \n",
       "7375                                           0.000110                                                                                    \n",
       "377                                            0.000187                                                                                    \n",
       "9756                                           0.996120                                                                                    \n",
       "7706                                           0.000022                                                                                    \n",
       "4361                                           0.000115                                                                                    \n",
       "5746                                           0.000305                                                                                    \n",
       "5808                                           0.000087                                                                                    \n",
       "8492                                           0.998960                                                                                    \n",
       "\n",
       "      Naive_Bayes_Classifier_Attrition_Flag_Card_Category_Contacts_Count_12_mon_Dependent_count_Education_Level_Months_Inactive_12_mon_2  \n",
       "4822                                           0.999950                                                                                   \n",
       "9338                                           0.999930                                                                                   \n",
       "7375                                           0.999890                                                                                   \n",
       "377                                            0.999810                                                                                   \n",
       "9756                                           0.003881                                                                                   \n",
       "7706                                           0.999980                                                                                   \n",
       "4361                                           0.999890                                                                                   \n",
       "5746                                           0.999690                                                                                   \n",
       "5808                                           0.999910                                                                                   \n",
       "8492                                           0.001043                                                                                   \n",
       "\n",
       "[10 rows x 23 columns]"
      ]
     },
     "execution_count": 4,
     "metadata": {},
     "output_type": "execute_result"
    }
   ],
   "source": [
    "df.sample(n=10)"
   ]
  },
  {
   "cell_type": "code",
   "execution_count": 5,
   "id": "5af2a59a",
   "metadata": {
    "_cell_guid": "58fd4f43-24ac-46a2-b946-6c99bbd44d63",
    "_uuid": "68c57fb5-3754-4bce-b626-43fe75fd2e7f",
    "collapsed": false,
    "execution": {
     "iopub.execute_input": "2021-10-24T03:17:18.150317Z",
     "iopub.status.busy": "2021-10-24T03:17:18.149738Z",
     "iopub.status.idle": "2021-10-24T03:17:18.169787Z",
     "shell.execute_reply": "2021-10-24T03:17:18.169262Z",
     "shell.execute_reply.started": "2021-10-24T03:11:39.696207Z"
    },
    "jupyter": {
     "outputs_hidden": false
    },
    "papermill": {
     "duration": 0.062281,
     "end_time": "2021-10-24T03:17:18.169900",
     "exception": false,
     "start_time": "2021-10-24T03:17:18.107619",
     "status": "completed"
    },
    "tags": []
   },
   "outputs": [
    {
     "name": "stdout",
     "output_type": "stream",
     "text": [
      "<class 'pandas.core.frame.DataFrame'>\n",
      "RangeIndex: 10127 entries, 0 to 10126\n",
      "Data columns (total 19 columns):\n",
      " #   Column                    Non-Null Count  Dtype  \n",
      "---  ------                    --------------  -----  \n",
      " 0   Customer_Age              10127 non-null  int64  \n",
      " 1   Gender                    10127 non-null  object \n",
      " 2   Dependent_count           10127 non-null  int64  \n",
      " 3   Education_Level           10127 non-null  object \n",
      " 4   Marital_Status            10127 non-null  object \n",
      " 5   Income_Category           10127 non-null  object \n",
      " 6   Card_Category             10127 non-null  object \n",
      " 7   Months_on_book            10127 non-null  int64  \n",
      " 8   Total_Relationship_Count  10127 non-null  int64  \n",
      " 9   Months_Inactive_12_mon    10127 non-null  int64  \n",
      " 10  Contacts_Count_12_mon     10127 non-null  int64  \n",
      " 11  Credit_Limit              10127 non-null  float64\n",
      " 12  Total_Revolving_Bal       10127 non-null  int64  \n",
      " 13  Avg_Open_To_Buy           10127 non-null  float64\n",
      " 14  Total_Amt_Chng_Q4_Q1      10127 non-null  float64\n",
      " 15  Total_Trans_Amt           10127 non-null  int64  \n",
      " 16  Total_Trans_Ct            10127 non-null  int64  \n",
      " 17  Total_Ct_Chng_Q4_Q1       10127 non-null  float64\n",
      " 18  Avg_Utilization_Ratio     10127 non-null  float64\n",
      "dtypes: float64(5), int64(9), object(5)\n",
      "memory usage: 1.5+ MB\n"
     ]
    }
   ],
   "source": [
    "x.info()"
   ]
  },
  {
   "cell_type": "markdown",
   "id": "c1e6c794",
   "metadata": {
    "_cell_guid": "54d98568-06d8-4cfe-96f9-a69b8601214f",
    "_uuid": "653ba860-27dd-45b4-b1cf-a29a447393f7",
    "papermill": {
     "duration": 0.026004,
     "end_time": "2021-10-24T03:17:18.222340",
     "exception": false,
     "start_time": "2021-10-24T03:17:18.196336",
     "status": "completed"
    },
    "tags": []
   },
   "source": [
    "## Não apresentarei boxplots que não possuem otliers para não sobrecarregar a quantidade de boxplot no arquivo python."
   ]
  },
  {
   "cell_type": "code",
   "execution_count": 6,
   "id": "b5378501",
   "metadata": {
    "_cell_guid": "a108803e-e18b-4608-a593-a1dc18b47fcb",
    "_uuid": "6ee31b73-5a7f-497d-a9b3-4fe5b200c745",
    "collapsed": false,
    "execution": {
     "iopub.execute_input": "2021-10-24T03:17:18.278122Z",
     "iopub.status.busy": "2021-10-24T03:17:18.277683Z",
     "iopub.status.idle": "2021-10-24T03:17:18.435669Z",
     "shell.execute_reply": "2021-10-24T03:17:18.436271Z",
     "shell.execute_reply.started": "2021-10-24T03:11:39.723013Z"
    },
    "jupyter": {
     "outputs_hidden": false
    },
    "papermill": {
     "duration": 0.187619,
     "end_time": "2021-10-24T03:17:18.436425",
     "exception": false,
     "start_time": "2021-10-24T03:17:18.248806",
     "status": "completed"
    },
    "tags": []
   },
   "outputs": [
    {
     "data": {
      "image/png": "[encoded data removed]",
      "text/plain": [
       "<Figure size 432x288 with 1 Axes>"
      ]
     },
     "metadata": {},
     "output_type": "display_data"
    }
   ],
   "source": [
    "boxplot = df.boxplot(column=['Months_on_book'])"
   ]
  },
  {
   "cell_type": "code",
   "execution_count": 7,
   "id": "4e766d0b",
   "metadata": {
    "_cell_guid": "e3cacb80-5384-48d2-bb56-047840942ec9",
    "_uuid": "dab21e51-1626-453f-867d-989fb064bf98",
    "collapsed": false,
    "execution": {
     "iopub.execute_input": "2021-10-24T03:17:18.502316Z",
     "iopub.status.busy": "2021-10-24T03:17:18.501872Z",
     "iopub.status.idle": "2021-10-24T03:17:18.634274Z",
     "shell.execute_reply": "2021-10-24T03:17:18.634868Z",
     "shell.execute_reply.started": "2021-10-24T03:11:39.976259Z"
    },
    "jupyter": {
     "outputs_hidden": false
    },
    "papermill": {
     "duration": 0.162239,
     "end_time": "2021-10-24T03:17:18.635015",
     "exception": false,
     "start_time": "2021-10-24T03:17:18.472776",
     "status": "completed"
    },
    "tags": []
   },
   "outputs": [
    {
     "data": {
      "image/png": "[encoded data removed]",
      "text/plain": [
       "<Figure size 432x288 with 1 Axes>"
      ]
     },
     "metadata": {},
     "output_type": "display_data"
    }
   ],
   "source": [
    "boxplot = df.boxplot(column=['Months_Inactive_12_mon'])"
   ]
  },
  {
   "cell_type": "code",
   "execution_count": 8,
   "id": "a430fdce",
   "metadata": {
    "_cell_guid": "9c38d4da-25ce-4ca4-a74c-769d200bdc43",
    "_uuid": "ca830da6-7306-44e5-a311-bd83cb806cdb",
    "collapsed": false,
    "execution": {
     "iopub.execute_input": "2021-10-24T03:17:18.698251Z",
     "iopub.status.busy": "2021-10-24T03:17:18.697807Z",
     "iopub.status.idle": "2021-10-24T03:17:19.036327Z",
     "shell.execute_reply": "2021-10-24T03:17:19.035922Z",
     "shell.execute_reply.started": "2021-10-24T03:11:40.190065Z"
    },
    "jupyter": {
     "outputs_hidden": false
    },
    "papermill": {
     "duration": 0.368049,
     "end_time": "2021-10-24T03:17:19.036439",
     "exception": false,
     "start_time": "2021-10-24T03:17:18.668390",
     "status": "completed"
    },
    "tags": []
   },
   "outputs": [
    {
     "data": {
      "text/plain": [
       "<AxesSubplot:xlabel='Total_Revolving_Bal', ylabel='Count'>"
      ]
     },
     "execution_count": 8,
     "metadata": {},
     "output_type": "execute_result"
    },
    {
     "data": {
      "image/png": "[encoded data removed]",
      "text/plain": [
       "<Figure size 432x288 with 1 Axes>"
      ]
     },
     "metadata": {},
     "output_type": "display_data"
    }
   ],
   "source": [
    "sns.histplot((df['Total_Revolving_Bal']), kde=True)"
   ]
  },
  {
   "cell_type": "code",
   "execution_count": 9,
   "id": "8506d8c2",
   "metadata": {
    "_cell_guid": "f64bb324-bbb3-4653-a9cc-00f58b15fdf0",
    "_uuid": "c53889fc-0785-4968-aff4-8bcb63bb32e6",
    "collapsed": false,
    "execution": {
     "iopub.execute_input": "2021-10-24T03:17:19.140118Z",
     "iopub.status.busy": "2021-10-24T03:17:19.139681Z",
     "iopub.status.idle": "2021-10-24T03:17:19.263195Z",
     "shell.execute_reply": "2021-10-24T03:17:19.263713Z",
     "shell.execute_reply.started": "2021-10-24T03:11:40.655949Z"
    },
    "jupyter": {
     "outputs_hidden": false
    },
    "papermill": {
     "duration": 0.15615,
     "end_time": "2021-10-24T03:17:19.263854",
     "exception": false,
     "start_time": "2021-10-24T03:17:19.107704",
     "status": "completed"
    },
    "tags": []
   },
   "outputs": [
    {
     "data": {
      "image/png": "[encoded data removed]",
      "text/plain": [
       "<Figure size 432x288 with 1 Axes>"
      ]
     },
     "metadata": {},
     "output_type": "display_data"
    }
   ],
   "source": [
    "boxplot = df.boxplot(column=['Credit_Limit'])"
   ]
  },
  {
   "cell_type": "code",
   "execution_count": 10,
   "id": "40c6bb3d",
   "metadata": {
    "_cell_guid": "b387dd51-8ce8-4e89-aa45-7345c7adb405",
    "_uuid": "0e5094ef-fc46-43a5-b467-fe872c100a02",
    "collapsed": false,
    "execution": {
     "iopub.execute_input": "2021-10-24T03:17:19.326525Z",
     "iopub.status.busy": "2021-10-24T03:17:19.325885Z",
     "iopub.status.idle": "2021-10-24T03:17:19.680605Z",
     "shell.execute_reply": "2021-10-24T03:17:19.679536Z",
     "shell.execute_reply.started": "2021-10-24T03:11:40.882121Z"
    },
    "jupyter": {
     "outputs_hidden": false
    },
    "papermill": {
     "duration": 0.385825,
     "end_time": "2021-10-24T03:17:19.680712",
     "exception": false,
     "start_time": "2021-10-24T03:17:19.294887",
     "status": "completed"
    },
    "tags": []
   },
   "outputs": [
    {
     "data": {
      "text/plain": [
       "<AxesSubplot:xlabel='Credit_Limit', ylabel='Count'>"
      ]
     },
     "execution_count": 10,
     "metadata": {},
     "output_type": "execute_result"
    },
    {
     "data": {
      "image/png": "[encoded data removed]",
      "text/plain": [
       "<Figure size 432x288 with 1 Axes>"
      ]
     },
     "metadata": {},
     "output_type": "display_data"
    }
   ],
   "source": [
    "sns.histplot((df['Credit_Limit']), kde=True)"
   ]
  },
  {
   "cell_type": "code",
   "execution_count": 11,
   "id": "5e79f3c7",
   "metadata": {
    "_cell_guid": "0fc39b7a-7d63-45b3-9e9d-05f932fb15fa",
    "_uuid": "fe72484a-0f28-425a-ad07-57aa9a3e58c6",
    "collapsed": false,
    "execution": {
     "iopub.execute_input": "2021-10-24T03:17:19.753273Z",
     "iopub.status.busy": "2021-10-24T03:17:19.749758Z",
     "iopub.status.idle": "2021-10-24T03:17:20.119672Z",
     "shell.execute_reply": "2021-10-24T03:17:20.120006Z",
     "shell.execute_reply.started": "2021-10-24T03:11:41.405901Z"
    },
    "jupyter": {
     "outputs_hidden": false
    },
    "papermill": {
     "duration": 0.40918,
     "end_time": "2021-10-24T03:17:20.120131",
     "exception": false,
     "start_time": "2021-10-24T03:17:19.710951",
     "status": "completed"
    },
    "tags": []
   },
   "outputs": [
    {
     "data": {
      "text/plain": [
       "<AxesSubplot:xlabel='Avg_Open_To_Buy', ylabel='Count'>"
      ]
     },
     "execution_count": 11,
     "metadata": {},
     "output_type": "execute_result"
    },
    {
     "data": {
      "image/png": "[encoded data removed]",
      "text/plain": [
       "<Figure size 432x288 with 1 Axes>"
      ]
     },
     "metadata": {},
     "output_type": "display_data"
    }
   ],
   "source": [
    "\n",
    "sns.histplot((df['Avg_Open_To_Buy']), kde=True)"
   ]
  },
  {
   "cell_type": "code",
   "execution_count": 12,
   "id": "dc833884",
   "metadata": {
    "_cell_guid": "da5369dd-3a20-4c59-bf22-ccdf7d427c14",
    "_uuid": "d4ea2d89-037f-42f4-988a-1e48e0c24897",
    "collapsed": false,
    "execution": {
     "iopub.execute_input": "2021-10-24T03:17:20.180737Z",
     "iopub.status.busy": "2021-10-24T03:17:20.180243Z",
     "iopub.status.idle": "2021-10-24T03:17:20.326924Z",
     "shell.execute_reply": "2021-10-24T03:17:20.327388Z",
     "shell.execute_reply.started": "2021-10-24T03:11:41.929492Z"
    },
    "jupyter": {
     "outputs_hidden": false
    },
    "papermill": {
     "duration": 0.178839,
     "end_time": "2021-10-24T03:17:20.327551",
     "exception": false,
     "start_time": "2021-10-24T03:17:20.148712",
     "status": "completed"
    },
    "tags": []
   },
   "outputs": [
    {
     "data": {
      "image/png": "[encoded data removed]",
      "text/plain": [
       "<Figure size 432x288 with 1 Axes>"
      ]
     },
     "metadata": {},
     "output_type": "display_data"
    }
   ],
   "source": [
    "boxplot = df.boxplot(column=['Avg_Open_To_Buy'])"
   ]
  },
  {
   "cell_type": "code",
   "execution_count": 13,
   "id": "74ed80e9",
   "metadata": {
    "_cell_guid": "1004e0e0-017a-4aa1-ae02-7fa79cfdd88d",
    "_uuid": "771a53a6-6c3d-4f8f-9a96-495057fa78a1",
    "collapsed": false,
    "execution": {
     "iopub.execute_input": "2021-10-24T03:17:20.396063Z",
     "iopub.status.busy": "2021-10-24T03:17:20.395606Z",
     "iopub.status.idle": "2021-10-24T03:17:20.962702Z",
     "shell.execute_reply": "2021-10-24T03:17:20.963250Z",
     "shell.execute_reply.started": "2021-10-24T03:11:42.150244Z"
    },
    "jupyter": {
     "outputs_hidden": false
    },
    "papermill": {
     "duration": 0.601876,
     "end_time": "2021-10-24T03:17:20.963399",
     "exception": false,
     "start_time": "2021-10-24T03:17:20.361523",
     "status": "completed"
    },
    "tags": []
   },
   "outputs": [
    {
     "data": {
      "text/plain": [
       "<AxesSubplot:xlabel='Total_Amt_Chng_Q4_Q1', ylabel='Count'>"
      ]
     },
     "execution_count": 13,
     "metadata": {},
     "output_type": "execute_result"
    },
    {
     "data": {
      "image/png": "[encoded data removed]",
      "text/plain": [
       "<Figure size 432x288 with 1 Axes>"
      ]
     },
     "metadata": {},
     "output_type": "display_data"
    }
   ],
   "source": [
    "sns.histplot((df['Total_Amt_Chng_Q4_Q1']), kde=True)"
   ]
  },
  {
   "cell_type": "code",
   "execution_count": 14,
   "id": "0da3a700",
   "metadata": {
    "_cell_guid": "e10d8227-d7a2-4bce-944c-aac41a69bf7e",
    "_uuid": "5cb2c130-511d-4a30-89ff-4ae197158876",
    "collapsed": false,
    "execution": {
     "iopub.execute_input": "2021-10-24T03:17:21.048765Z",
     "iopub.status.busy": "2021-10-24T03:17:21.048268Z",
     "iopub.status.idle": "2021-10-24T03:17:21.182877Z",
     "shell.execute_reply": "2021-10-24T03:17:21.183479Z",
     "shell.execute_reply.started": "2021-10-24T03:11:42.917328Z"
    },
    "jupyter": {
     "outputs_hidden": false
    },
    "papermill": {
     "duration": 0.186805,
     "end_time": "2021-10-24T03:17:21.183666",
     "exception": false,
     "start_time": "2021-10-24T03:17:20.996861",
     "status": "completed"
    },
    "tags": []
   },
   "outputs": [
    {
     "data": {
      "image/png": "[encoded data removed]",
      "text/plain": [
       "<Figure size 432x288 with 1 Axes>"
      ]
     },
     "metadata": {},
     "output_type": "display_data"
    }
   ],
   "source": [
    "boxplot = df.boxplot(column=['Total_Trans_Ct'])"
   ]
  },
  {
   "cell_type": "code",
   "execution_count": 15,
   "id": "d92c0cd5",
   "metadata": {
    "_cell_guid": "6444174e-1c70-4b4f-8313-8631114bb1eb",
    "_uuid": "37cb3fba-a394-432c-b7fe-445dc037dfd7",
    "collapsed": false,
    "execution": {
     "iopub.execute_input": "2021-10-24T03:17:21.258097Z",
     "iopub.status.busy": "2021-10-24T03:17:21.257654Z",
     "iopub.status.idle": "2021-10-24T03:17:21.834470Z",
     "shell.execute_reply": "2021-10-24T03:17:21.834081Z",
     "shell.execute_reply.started": "2021-10-24T03:11:43.130751Z"
    },
    "jupyter": {
     "outputs_hidden": false
    },
    "papermill": {
     "duration": 0.611859,
     "end_time": "2021-10-24T03:17:21.834595",
     "exception": false,
     "start_time": "2021-10-24T03:17:21.222736",
     "status": "completed"
    },
    "tags": []
   },
   "outputs": [
    {
     "data": {
      "text/plain": [
       "<AxesSubplot:xlabel='Total_Ct_Chng_Q4_Q1', ylabel='Count'>"
      ]
     },
     "execution_count": 15,
     "metadata": {},
     "output_type": "execute_result"
    },
    {
     "data": {
      "image/png": "[encoded data removed]",
      "text/plain": [
       "<Figure size 432x288 with 1 Axes>"
      ]
     },
     "metadata": {},
     "output_type": "display_data"
    }
   ],
   "source": [
    "sns.histplot((df['Total_Ct_Chng_Q4_Q1']), kde=True)"
   ]
  },
  {
   "cell_type": "markdown",
   "id": "e098b1b1",
   "metadata": {
    "_cell_guid": "c138cc28-9be4-49f4-977c-3c1d49ceb214",
    "_uuid": "0003ab12-ec72-4bcb-8461-3280f4fcfbbb",
    "papermill": {
     "duration": 0.033621,
     "end_time": "2021-10-24T03:17:21.902323",
     "exception": false,
     "start_time": "2021-10-24T03:17:21.868702",
     "status": "completed"
    },
    "tags": []
   },
   "source": [
    "# Tratando alguns outliers"
   ]
  },
  {
   "cell_type": "code",
   "execution_count": 16,
   "id": "deaa9b9c",
   "metadata": {
    "_cell_guid": "0f48b77e-a83d-44d5-b7de-2a65b372d422",
    "_uuid": "1ba0c49c-3216-48d8-b36b-27bab740bd10",
    "collapsed": false,
    "execution": {
     "iopub.execute_input": "2021-10-24T03:17:21.974298Z",
     "iopub.status.busy": "2021-10-24T03:17:21.973816Z",
     "iopub.status.idle": "2021-10-24T03:17:21.978032Z",
     "shell.execute_reply": "2021-10-24T03:17:21.978481Z",
     "shell.execute_reply.started": "2021-10-24T03:11:43.912099Z"
    },
    "jupyter": {
     "outputs_hidden": false
    },
    "papermill": {
     "duration": 0.041982,
     "end_time": "2021-10-24T03:17:21.978634",
     "exception": false,
     "start_time": "2021-10-24T03:17:21.936652",
     "status": "completed"
    },
    "tags": []
   },
   "outputs": [],
   "source": [
    "#esta função encontra os limites superiores e inferiores\n",
    "# e retorna o dataframe dentro dos limites\n",
    "def boxplott(df,text):\n",
    "    #df=df.sort_values(text)\n",
    "    Q1=df[text].quantile(q=0.25)\n",
    "    Q3=df[text].quantile(q=0.75)\n",
    "    FIQ = Q3-Q1\n",
    "\n",
    "    LF = Q1 - 1.5 * FIQ\n",
    "    LS = Q3 + 1.5 * FIQ\n",
    "    \n",
    "    #print('LS : ', LS)\n",
    "    #print('LF : ', LF)\n",
    "    df.loc[df[text] > LS , text] = LS\n",
    "    df.loc[df[text] < LF , text] = LF\n",
    "    return df"
   ]
  },
  {
   "cell_type": "markdown",
   "id": "dd2f0724",
   "metadata": {
    "_cell_guid": "03700c59-3f92-4f12-b300-6ef42a2bca4e",
    "_uuid": "b2b45e00-71ee-4dfd-b0be-4b3c0fd7862a",
    "papermill": {
     "duration": 0.033362,
     "end_time": "2021-10-24T03:17:22.045660",
     "exception": false,
     "start_time": "2021-10-24T03:17:22.012298",
     "status": "completed"
    },
    "tags": []
   },
   "source": [
    "### Vamos converter algumas colunas para seu logaritmo, isso faz com que reduza levemente os outliers da coluna especifica.\n",
    "### outra abordagem é quando em uma coluna há poucos outlier aplico a função boxplott que reduz os outliers. Em algumas situações pode se mostrar ineficiente mas aqui aumentou levemente a accuracy."
   ]
  },
  {
   "cell_type": "code",
   "execution_count": 17,
   "id": "7cd7c171",
   "metadata": {
    "_cell_guid": "7ad3d168-fe76-491a-acb8-69f667e3d862",
    "_uuid": "4931b6ce-abe5-45ab-9642-d17c00f2ae2c",
    "collapsed": false,
    "execution": {
     "iopub.execute_input": "2021-10-24T03:17:22.116986Z",
     "iopub.status.busy": "2021-10-24T03:17:22.115425Z",
     "iopub.status.idle": "2021-10-24T03:17:22.134375Z",
     "shell.execute_reply": "2021-10-24T03:17:22.134857Z",
     "shell.execute_reply.started": "2021-10-24T03:11:43.920115Z"
    },
    "jupyter": {
     "outputs_hidden": false
    },
    "papermill": {
     "duration": 0.05539,
     "end_time": "2021-10-24T03:17:22.134994",
     "exception": false,
     "start_time": "2021-10-24T03:17:22.079604",
     "status": "completed"
    },
    "tags": []
   },
   "outputs": [],
   "source": [
    "x['Total_Amt_Chng_Q4_Q1']=np.log(x['Total_Amt_Chng_Q4_Q1']+1)\n",
    "x['Avg_Open_To_Buy']=np.log(x['Avg_Open_To_Buy']+1)\n",
    "x['Total_Ct_Chng_Q4_Q1']=np.log(x['Total_Ct_Chng_Q4_Q1']+1)\n",
    "x = boxplott(x,'Months_on_book')\n",
    "x = boxplott(x,'Months_Inactive_12_mon')\n",
    "x = boxplott(x,'Contacts_Count_12_mon')\n",
    "x = boxplott(x,'Total_Trans_Ct')"
   ]
  },
  {
   "cell_type": "markdown",
   "id": "9fd0b0b7",
   "metadata": {
    "_cell_guid": "03092575-a931-4fd7-9467-28af781dca0d",
    "_uuid": "24175184-0c88-41ab-b72c-dcd180b19c80",
    "papermill": {
     "duration": 0.033258,
     "end_time": "2021-10-24T03:17:22.202870",
     "exception": false,
     "start_time": "2021-10-24T03:17:22.169612",
     "status": "completed"
    },
    "tags": []
   },
   "source": [
    "# O que utilizar? Label encoder ou OneHotEncoder?\n",
    "\n",
    "Testei ambas abordagens e cheguei a conclusão que Label Encoder foi mais promissor se tratando dos dois modelos de ML que utilizei. Talvez em uma rede neural a abordagem mudaria."
   ]
  },
  {
   "cell_type": "markdown",
   "id": "aa71ee3f",
   "metadata": {
    "_cell_guid": "22e216e2-c3b1-45ae-8dc1-c754e5a1c272",
    "_uuid": "93c6f040-229f-499f-8195-0ff156e5ae85",
    "papermill": {
     "duration": 0.032651,
     "end_time": "2021-10-24T03:17:22.268555",
     "exception": false,
     "start_time": "2021-10-24T03:17:22.235904",
     "status": "completed"
    },
    "tags": []
   },
   "source": [
    "### Label encoder"
   ]
  },
  {
   "cell_type": "code",
   "execution_count": 18,
   "id": "32ee171c",
   "metadata": {
    "_cell_guid": "69b44c94-adcd-4f66-90cf-4273f8a06e02",
    "_uuid": "c3e00e78-6513-42ea-bb24-0d2d631955ce",
    "collapsed": false,
    "execution": {
     "iopub.execute_input": "2021-10-24T03:17:22.340296Z",
     "iopub.status.busy": "2021-10-24T03:17:22.339838Z",
     "iopub.status.idle": "2021-10-24T03:17:22.353492Z",
     "shell.execute_reply": "2021-10-24T03:17:22.353922Z",
     "shell.execute_reply.started": "2021-10-24T03:11:43.949743Z"
    },
    "jupyter": {
     "outputs_hidden": false
    },
    "papermill": {
     "duration": 0.051017,
     "end_time": "2021-10-24T03:17:22.354069",
     "exception": false,
     "start_time": "2021-10-24T03:17:22.303052",
     "status": "completed"
    },
    "tags": []
   },
   "outputs": [],
   "source": [
    "\n",
    "labelencoder = LabelEncoder()\n",
    "x['Gender'] = labelencoder.fit_transform(x['Gender'])\n",
    "x['Education_Level'] = labelencoder.fit_transform(x['Education_Level'])\n",
    "x['Marital_Status'] = labelencoder.fit_transform(x['Marital_Status'])\n",
    "x['Income_Category'] = labelencoder.fit_transform(x['Income_Category'])\n",
    "x['Card_Category'] = labelencoder.fit_transform(x['Card_Category'])"
   ]
  },
  {
   "cell_type": "markdown",
   "id": "32991396",
   "metadata": {
    "_cell_guid": "fe7ea56b-639d-4465-9b2a-89630116eb09",
    "_uuid": "9b59c1cb-7877-4175-873c-5c1b71445192",
    "papermill": {
     "duration": 0.034049,
     "end_time": "2021-10-24T03:17:22.421891",
     "exception": false,
     "start_time": "2021-10-24T03:17:22.387842",
     "status": "completed"
    },
    "tags": []
   },
   "source": [
    "### one hot encoder :"
   ]
  },
  {
   "cell_type": "code",
   "execution_count": 19,
   "id": "5ffbb916",
   "metadata": {
    "_cell_guid": "e4139005-ad6e-423d-b118-d551d62cdd75",
    "_uuid": "92588b9f-a931-4214-990c-62120d782501",
    "collapsed": false,
    "execution": {
     "iopub.execute_input": "2021-10-24T03:17:22.492616Z",
     "iopub.status.busy": "2021-10-24T03:17:22.492129Z",
     "iopub.status.idle": "2021-10-24T03:17:22.494970Z",
     "shell.execute_reply": "2021-10-24T03:17:22.494411Z",
     "shell.execute_reply.started": "2021-10-24T03:11:43.976508Z"
    },
    "jupyter": {
     "outputs_hidden": false
    },
    "papermill": {
     "duration": 0.039115,
     "end_time": "2021-10-24T03:17:22.495082",
     "exception": false,
     "start_time": "2021-10-24T03:17:22.455967",
     "status": "completed"
    },
    "tags": []
   },
   "outputs": [],
   "source": [
    "#x = pd.get_dummies(x)"
   ]
  },
  {
   "cell_type": "markdown",
   "id": "3b93e01b",
   "metadata": {
    "_cell_guid": "b5fa9c28-1b18-4343-a21b-2ada4350a688",
    "_uuid": "feea79a2-9fb0-4bb2-941b-0deab2ab5d90",
    "papermill": {
     "duration": 0.03332,
     "end_time": "2021-10-24T03:17:22.562384",
     "exception": false,
     "start_time": "2021-10-24T03:17:22.529064",
     "status": "completed"
    },
    "tags": []
   },
   "source": [
    "### Como ficaram os dados?"
   ]
  },
  {
   "cell_type": "code",
   "execution_count": 20,
   "id": "b1c8dd5f",
   "metadata": {
    "_cell_guid": "ba8ad7a8-b4db-446f-b670-3225cbca47fa",
    "_uuid": "8e717021-8c98-4e21-89d7-80db4910e50f",
    "collapsed": false,
    "execution": {
     "iopub.execute_input": "2021-10-24T03:17:22.632819Z",
     "iopub.status.busy": "2021-10-24T03:17:22.632340Z",
     "iopub.status.idle": "2021-10-24T03:17:22.647027Z",
     "shell.execute_reply": "2021-10-24T03:17:22.647479Z",
     "shell.execute_reply.started": "2021-10-24T03:11:43.981441Z"
    },
    "jupyter": {
     "outputs_hidden": false
    },
    "papermill": {
     "duration": 0.05117,
     "end_time": "2021-10-24T03:17:22.647611",
     "exception": false,
     "start_time": "2021-10-24T03:17:22.596441",
     "status": "completed"
    },
    "tags": []
   },
   "outputs": [
    {
     "data": {
      "text/html": [
       "<div>\n",
       "<style scoped>\n",
       "    .dataframe tbody tr th:only-of-type {\n",
       "        vertical-align: middle;\n",
       "    }\n",
       "\n",
       "    .dataframe tbody tr th {\n",
       "        vertical-align: top;\n",
       "    }\n",
       "\n",
       "    .dataframe thead th {\n",
       "        text-align: right;\n",
       "    }\n",
       "</style>\n",
       "<table border=\"1\" class=\"dataframe\">\n",
       "  <thead>\n",
       "    <tr style=\"text-align: right;\">\n",
       "      <th></th>\n",
       "      <th>Customer_Age</th>\n",
       "      <th>Gender</th>\n",
       "      <th>Dependent_count</th>\n",
       "      <th>Education_Level</th>\n",
       "      <th>Marital_Status</th>\n",
       "      <th>Income_Category</th>\n",
       "      <th>Card_Category</th>\n",
       "      <th>Months_on_book</th>\n",
       "      <th>Total_Relationship_Count</th>\n",
       "      <th>Months_Inactive_12_mon</th>\n",
       "      <th>Contacts_Count_12_mon</th>\n",
       "      <th>Credit_Limit</th>\n",
       "      <th>Total_Revolving_Bal</th>\n",
       "      <th>Avg_Open_To_Buy</th>\n",
       "      <th>Total_Amt_Chng_Q4_Q1</th>\n",
       "      <th>Total_Trans_Amt</th>\n",
       "      <th>Total_Trans_Ct</th>\n",
       "      <th>Total_Ct_Chng_Q4_Q1</th>\n",
       "      <th>Avg_Utilization_Ratio</th>\n",
       "    </tr>\n",
       "  </thead>\n",
       "  <tbody>\n",
       "    <tr>\n",
       "      <th>0</th>\n",
       "      <td>45</td>\n",
       "      <td>1</td>\n",
       "      <td>3</td>\n",
       "      <td>3</td>\n",
       "      <td>1</td>\n",
       "      <td>2</td>\n",
       "      <td>0</td>\n",
       "      <td>39.0</td>\n",
       "      <td>5</td>\n",
       "      <td>1.0</td>\n",
       "      <td>3.0</td>\n",
       "      <td>12691.0</td>\n",
       "      <td>777</td>\n",
       "      <td>9.385553</td>\n",
       "      <td>0.848012</td>\n",
       "      <td>1144</td>\n",
       "      <td>42</td>\n",
       "      <td>0.965081</td>\n",
       "      <td>0.061</td>\n",
       "    </tr>\n",
       "    <tr>\n",
       "      <th>1</th>\n",
       "      <td>49</td>\n",
       "      <td>0</td>\n",
       "      <td>5</td>\n",
       "      <td>2</td>\n",
       "      <td>2</td>\n",
       "      <td>4</td>\n",
       "      <td>0</td>\n",
       "      <td>44.0</td>\n",
       "      <td>6</td>\n",
       "      <td>1.0</td>\n",
       "      <td>2.0</td>\n",
       "      <td>8256.0</td>\n",
       "      <td>864</td>\n",
       "      <td>8.908289</td>\n",
       "      <td>0.932558</td>\n",
       "      <td>1291</td>\n",
       "      <td>33</td>\n",
       "      <td>1.550537</td>\n",
       "      <td>0.105</td>\n",
       "    </tr>\n",
       "    <tr>\n",
       "      <th>2</th>\n",
       "      <td>51</td>\n",
       "      <td>1</td>\n",
       "      <td>3</td>\n",
       "      <td>2</td>\n",
       "      <td>1</td>\n",
       "      <td>3</td>\n",
       "      <td>0</td>\n",
       "      <td>36.0</td>\n",
       "      <td>4</td>\n",
       "      <td>1.0</td>\n",
       "      <td>0.5</td>\n",
       "      <td>3418.0</td>\n",
       "      <td>0</td>\n",
       "      <td>8.137103</td>\n",
       "      <td>1.279266</td>\n",
       "      <td>1887</td>\n",
       "      <td>20</td>\n",
       "      <td>1.203873</td>\n",
       "      <td>0.000</td>\n",
       "    </tr>\n",
       "    <tr>\n",
       "      <th>3</th>\n",
       "      <td>40</td>\n",
       "      <td>0</td>\n",
       "      <td>4</td>\n",
       "      <td>3</td>\n",
       "      <td>3</td>\n",
       "      <td>4</td>\n",
       "      <td>0</td>\n",
       "      <td>34.0</td>\n",
       "      <td>3</td>\n",
       "      <td>4.0</td>\n",
       "      <td>1.0</td>\n",
       "      <td>3313.0</td>\n",
       "      <td>2517</td>\n",
       "      <td>6.680855</td>\n",
       "      <td>0.877550</td>\n",
       "      <td>1171</td>\n",
       "      <td>20</td>\n",
       "      <td>1.203873</td>\n",
       "      <td>0.760</td>\n",
       "    </tr>\n",
       "    <tr>\n",
       "      <th>4</th>\n",
       "      <td>40</td>\n",
       "      <td>1</td>\n",
       "      <td>3</td>\n",
       "      <td>5</td>\n",
       "      <td>1</td>\n",
       "      <td>2</td>\n",
       "      <td>0</td>\n",
       "      <td>21.0</td>\n",
       "      <td>5</td>\n",
       "      <td>1.0</td>\n",
       "      <td>0.5</td>\n",
       "      <td>4716.0</td>\n",
       "      <td>0</td>\n",
       "      <td>8.458928</td>\n",
       "      <td>1.155308</td>\n",
       "      <td>816</td>\n",
       "      <td>28</td>\n",
       "      <td>1.252763</td>\n",
       "      <td>0.000</td>\n",
       "    </tr>\n",
       "  </tbody>\n",
       "</table>\n",
       "</div>"
      ],
      "text/plain": [
       "   Customer_Age  Gender  Dependent_count  Education_Level  Marital_Status  \\\n",
       "0            45       1                3                3               1   \n",
       "1            49       0                5                2               2   \n",
       "2            51       1                3                2               1   \n",
       "3            40       0                4                3               3   \n",
       "4            40       1                3                5               1   \n",
       "\n",
       "   Income_Category  Card_Category  Months_on_book  Total_Relationship_Count  \\\n",
       "0                2              0            39.0                         5   \n",
       "1                4              0            44.0                         6   \n",
       "2                3              0            36.0                         4   \n",
       "3                4              0            34.0                         3   \n",
       "4                2              0            21.0                         5   \n",
       "\n",
       "   Months_Inactive_12_mon  Contacts_Count_12_mon  Credit_Limit  \\\n",
       "0                     1.0                    3.0       12691.0   \n",
       "1                     1.0                    2.0        8256.0   \n",
       "2                     1.0                    0.5        3418.0   \n",
       "3                     4.0                    1.0        3313.0   \n",
       "4                     1.0                    0.5        4716.0   \n",
       "\n",
       "   Total_Revolving_Bal  Avg_Open_To_Buy  Total_Amt_Chng_Q4_Q1  \\\n",
       "0                  777         9.385553              0.848012   \n",
       "1                  864         8.908289              0.932558   \n",
       "2                    0         8.137103              1.279266   \n",
       "3                 2517         6.680855              0.877550   \n",
       "4                    0         8.458928              1.155308   \n",
       "\n",
       "   Total_Trans_Amt  Total_Trans_Ct  Total_Ct_Chng_Q4_Q1  Avg_Utilization_Ratio  \n",
       "0             1144              42             0.965081                  0.061  \n",
       "1             1291              33             1.550537                  0.105  \n",
       "2             1887              20             1.203873                  0.000  \n",
       "3             1171              20             1.203873                  0.760  \n",
       "4              816              28             1.252763                  0.000  "
      ]
     },
     "execution_count": 20,
     "metadata": {},
     "output_type": "execute_result"
    }
   ],
   "source": [
    "x.head()"
   ]
  },
  {
   "cell_type": "markdown",
   "id": "e07181e0",
   "metadata": {
    "_cell_guid": "839f4ae2-deba-4382-9901-a23e065b56d5",
    "_uuid": "9d0e3c81-a802-4c6b-9397-101ca9400c5b",
    "papermill": {
     "duration": 0.034382,
     "end_time": "2021-10-24T03:17:22.716546",
     "exception": false,
     "start_time": "2021-10-24T03:17:22.682164",
     "status": "completed"
    },
    "tags": []
   },
   "source": [
    "# SEPARAÇÃO TREINO E TESTE"
   ]
  },
  {
   "cell_type": "code",
   "execution_count": 21,
   "id": "c89036a6",
   "metadata": {
    "_cell_guid": "8d48993e-a5fc-4133-93b2-b68cdf1ae09d",
    "_uuid": "34880a4e-e4e0-431c-8604-217eee8cd6c2",
    "collapsed": false,
    "execution": {
     "iopub.execute_input": "2021-10-24T03:17:22.787916Z",
     "iopub.status.busy": "2021-10-24T03:17:22.787437Z",
     "iopub.status.idle": "2021-10-24T03:17:22.794856Z",
     "shell.execute_reply": "2021-10-24T03:17:22.795238Z",
     "shell.execute_reply.started": "2021-10-24T03:11:44.010938Z"
    },
    "jupyter": {
     "outputs_hidden": false
    },
    "papermill": {
     "duration": 0.044347,
     "end_time": "2021-10-24T03:17:22.795374",
     "exception": false,
     "start_time": "2021-10-24T03:17:22.751027",
     "status": "completed"
    },
    "tags": []
   },
   "outputs": [],
   "source": [
    "#Separação entre treino e teste\n",
    "y=df['Attrition_Flag']\n",
    "#del df \n",
    "\n",
    "np.random.seed(50)\n",
    "x_treino, x_teste, y_treino, y_teste = train_test_split (x, y, test_size = 0.20, random_state = 42)"
   ]
  },
  {
   "cell_type": "markdown",
   "id": "f1ae7ff2",
   "metadata": {
    "_cell_guid": "0acddadb-acd7-4ba8-a03d-fff1b2a1a7fc",
    "_uuid": "a3d5af72-b02f-42fc-b34e-a79e01ce10ce",
    "papermill": {
     "duration": 0.034584,
     "end_time": "2021-10-24T03:17:22.864849",
     "exception": false,
     "start_time": "2021-10-24T03:17:22.830265",
     "status": "completed"
    },
    "tags": []
   },
   "source": [
    "# FASE DE TREINAMENTO E TESTE\n",
    "\n",
    "##### OPITEI POR UTILIZAR DOIS MODELOS DE ML QUE SÃO EXTREMAMENTE RAPIDOS, O PRIMIERO É XGB E O SEGUNDO RANDO FOREST\n",
    "##### TESTEI SVM MAS SE MOSTROU EXTREMAMENTE LENTO, ENTÃO OPTEI POR REMOVELO POIS NÃO HAVERIA TEMPO PARA EXECUÇÃO.\n",
    "##### DEIXEI O MODELO DESCOBRIR SEUS PARAMETROS PARA NÃO CAUSAR SOBRE AJUSTE TAMBÈM PORQUE NÃO HAVERIA TEMPO PARA TESTES COM DIVERSOS PARAMETROS.\n",
    "\n",
    "##### VALE COMENTAR QUE UTILIZEI 5 FOLDS e MATRIZ DE CONFUSÃO PARA INTERPRETAR OS RESULTADOS. AO FINAL HÁ UM BREVE COMENTARIO SOBRE OS TESTES E SEUS RESPECTIVOS RESULTADOS."
   ]
  },
  {
   "cell_type": "markdown",
   "id": "54eca64c",
   "metadata": {
    "_cell_guid": "9f2cfdbd-fef8-4dfa-b747-e51cb1b0e6b7",
    "_uuid": "0f4326ea-d60c-4a0a-8e24-7eaf648ab1f6",
    "papermill": {
     "duration": 0.033956,
     "end_time": "2021-10-24T03:17:22.933268",
     "exception": false,
     "start_time": "2021-10-24T03:17:22.899312",
     "status": "completed"
    },
    "tags": []
   },
   "source": [
    "# TREINAMENTO XGB"
   ]
  },
  {
   "cell_type": "code",
   "execution_count": 22,
   "id": "77c44f7c",
   "metadata": {
    "_cell_guid": "39a6a10c-88e4-45c1-a5fb-3ef4e0aab29f",
    "_uuid": "e7ea0af1-7b78-43d9-aa71-36c48a9804bf",
    "collapsed": false,
    "execution": {
     "iopub.execute_input": "2021-10-24T03:17:23.006338Z",
     "iopub.status.busy": "2021-10-24T03:17:23.005895Z",
     "iopub.status.idle": "2021-10-24T03:17:23.808769Z",
     "shell.execute_reply": "2021-10-24T03:17:23.808354Z",
     "shell.execute_reply.started": "2021-10-24T03:11:44.022550Z"
    },
    "jupyter": {
     "outputs_hidden": false
    },
    "papermill": {
     "duration": 0.841182,
     "end_time": "2021-10-24T03:17:23.808876",
     "exception": false,
     "start_time": "2021-10-24T03:17:22.967694",
     "status": "completed"
    },
    "tags": []
   },
   "outputs": [
    {
     "name": "stderr",
     "output_type": "stream",
     "text": [
      "/opt/conda/lib/python3.7/site-packages/xgboost/sklearn.py:1146: UserWarning: The use of label encoder in XGBClassifier is deprecated and will be removed in a future release. To remove this warning, do the following: 1) Pass option use_label_encoder=False when constructing XGBClassifier object; and 2) Encode your labels (y) as integers starting with 0, i.e. 0, 1, 2, ..., [num_class - 1].\n",
      "  warnings.warn(label_encoder_deprecation_msg, UserWarning)\n"
     ]
    },
    {
     "data": {
      "text/plain": [
       "XGBClassifier(base_score=0.5, booster='gbtree', colsample_bylevel=1,\n",
       "              colsample_bynode=1, colsample_bytree=1, gamma=0, gpu_id=-1,\n",
       "              importance_type='gain', interaction_constraints='',\n",
       "              learning_rate=0.300000012, max_delta_step=0, max_depth=6,\n",
       "              min_child_weight=1, missing=nan, monotone_constraints='()',\n",
       "              n_estimators=100, n_jobs=4, num_parallel_tree=1, random_state=0,\n",
       "              reg_alpha=0, reg_lambda=1, scale_pos_weight=1, subsample=1,\n",
       "              tree_method='exact', validate_parameters=1, verbosity=0)"
      ]
     },
     "execution_count": 22,
     "metadata": {},
     "output_type": "execute_result"
    }
   ],
   "source": [
    "from xgboost import XGBClassifier\n",
    "SVM = XGBClassifier(verbosity = 0)\n",
    "SVM.fit(x_treino,y_treino)"
   ]
  },
  {
   "cell_type": "markdown",
   "id": "2ee0da70",
   "metadata": {
    "_cell_guid": "ea9f315e-e52a-4e92-9763-c7d0ed806f14",
    "_uuid": "5017fbd8-1e3a-45e1-b7b2-4ed56d74ebf6",
    "papermill": {
     "duration": 0.034278,
     "end_time": "2021-10-24T03:17:23.878158",
     "exception": false,
     "start_time": "2021-10-24T03:17:23.843880",
     "status": "completed"
    },
    "tags": []
   },
   "source": [
    "# TESTE PARA XGB"
   ]
  },
  {
   "cell_type": "code",
   "execution_count": 23,
   "id": "80ca3c99",
   "metadata": {
    "_cell_guid": "57b46afb-8e0e-4e34-9988-ad1fbc52a9d3",
    "_uuid": "d291dd88-08d3-44c3-853b-fd6b59a5f745",
    "collapsed": false,
    "execution": {
     "iopub.execute_input": "2021-10-24T03:17:23.957950Z",
     "iopub.status.busy": "2021-10-24T03:17:23.957451Z",
     "iopub.status.idle": "2021-10-24T03:17:24.998822Z",
     "shell.execute_reply": "2021-10-24T03:17:24.997706Z",
     "shell.execute_reply.started": "2021-10-24T03:11:44.979052Z"
    },
    "jupyter": {
     "outputs_hidden": false
    },
    "papermill": {
     "duration": 1.08589,
     "end_time": "2021-10-24T03:17:24.999024",
     "exception": false,
     "start_time": "2021-10-24T03:17:23.913134",
     "status": "completed"
    },
    "tags": []
   },
   "outputs": [
    {
     "name": "stderr",
     "output_type": "stream",
     "text": [
      "/opt/conda/lib/python3.7/site-packages/xgboost/sklearn.py:1146: UserWarning: The use of label encoder in XGBClassifier is deprecated and will be removed in a future release. To remove this warning, do the following: 1) Pass option use_label_encoder=False when constructing XGBClassifier object; and 2) Encode your labels (y) as integers starting with 0, i.e. 0, 1, 2, ..., [num_class - 1].\n",
      "  warnings.warn(label_encoder_deprecation_msg, UserWarning)\n"
     ]
    },
    {
     "name": "stdout",
     "output_type": "stream",
     "text": [
      "Relatório de classificação:\n",
      "                    precision    recall  f1-score   support\n",
      "\n",
      "Attrited Customer     0.9060    0.8257    0.8640       327\n",
      "Existing Customer     0.9670    0.9835    0.9752      1699\n",
      "\n",
      "         accuracy                         0.9580      2026\n",
      "        macro avg     0.9365    0.9046    0.9196      2026\n",
      "     weighted avg     0.9572    0.9580    0.9572      2026\n",
      "\n"
     ]
    },
    {
     "data": {
      "image/png": "[encoded data removed]",
      "text/plain": [
       "<Figure size 432x288 with 2 Axes>"
      ]
     },
     "metadata": {},
     "output_type": "display_data"
    }
   ],
   "source": [
    "cv = StratifiedKFold(n_splits = 5, shuffle = True)\n",
    "y_pred = cross_val_predict(SVM, x_teste, y_teste, cv = cv)\n",
    "fig, ax = plt.subplots()\n",
    "sns.heatmap(confusion_matrix(y_teste, y_pred), annot=True, \n",
    "            ax=ax, fmt='d', cmap='Reds')\n",
    "ax.set_title(\"Matriz de Confusão\", fontsize=18)\n",
    "ax.set_ylabel(\"True label\")\n",
    "ax.set_xlabel(\"Predicted Label\")\n",
    "# relatório do modelo\n",
    "print('Relatório de classificação:\\n', classification_report(y_teste, y_pred, digits=4))"
   ]
  },
  {
   "cell_type": "markdown",
   "id": "8db10ae0",
   "metadata": {
    "_cell_guid": "7a0bd8a4-e88d-4dfa-8a1a-a3521b661402",
    "_uuid": "95072df7-a2bb-4573-ba5e-e22eb1e4b04d",
    "papermill": {
     "duration": 0.037159,
     "end_time": "2021-10-24T03:17:25.073973",
     "exception": false,
     "start_time": "2021-10-24T03:17:25.036814",
     "status": "completed"
    },
    "tags": []
   },
   "source": [
    "# TREINAMENTO RANDOM FOREST"
   ]
  },
  {
   "cell_type": "code",
   "execution_count": 24,
   "id": "99f00b4f",
   "metadata": {
    "_cell_guid": "2323dccc-01f7-4d3d-8fbf-0851589bfb6b",
    "_uuid": "eb7f47a8-c4d4-4b34-b96a-41634d435c98",
    "collapsed": false,
    "execution": {
     "iopub.execute_input": "2021-10-24T03:17:25.153444Z",
     "iopub.status.busy": "2021-10-24T03:17:25.152942Z",
     "iopub.status.idle": "2021-10-24T03:17:26.581820Z",
     "shell.execute_reply": "2021-10-24T03:17:26.582224Z",
     "shell.execute_reply.started": "2021-10-24T03:11:47.142760Z"
    },
    "jupyter": {
     "outputs_hidden": false
    },
    "papermill": {
     "duration": 1.471203,
     "end_time": "2021-10-24T03:17:26.582357",
     "exception": false,
     "start_time": "2021-10-24T03:17:25.111154",
     "status": "completed"
    },
    "tags": []
   },
   "outputs": [
    {
     "data": {
      "text/plain": [
       "RandomForestClassifier()"
      ]
     },
     "execution_count": 24,
     "metadata": {},
     "output_type": "execute_result"
    }
   ],
   "source": [
    "rf = RandomForestClassifier()\n",
    "rf.fit(x_treino,y_treino)"
   ]
  },
  {
   "cell_type": "markdown",
   "id": "712a6b25",
   "metadata": {
    "_cell_guid": "a725f590-9dae-4dfc-a175-6f15c428f888",
    "_uuid": "7764cf20-334a-48ff-9ce6-324475210fb6",
    "papermill": {
     "duration": 0.035476,
     "end_time": "2021-10-24T03:17:26.654803",
     "exception": false,
     "start_time": "2021-10-24T03:17:26.619327",
     "status": "completed"
    },
    "tags": []
   },
   "source": [
    "# TESTE RANDOM FOREST"
   ]
  },
  {
   "cell_type": "code",
   "execution_count": 25,
   "id": "cfeb09e1",
   "metadata": {
    "_cell_guid": "115ce8e8-12bd-4bea-bc63-e32539f97bfe",
    "_uuid": "ac136d24-9f9d-4f93-a7eb-354284f091c8",
    "collapsed": false,
    "execution": {
     "iopub.execute_input": "2021-10-24T03:17:26.729751Z",
     "iopub.status.busy": "2021-10-24T03:17:26.729064Z",
     "iopub.status.idle": "2021-10-24T03:17:28.591363Z",
     "shell.execute_reply": "2021-10-24T03:17:28.590809Z",
     "shell.execute_reply.started": "2021-10-24T03:11:48.551782Z"
    },
    "jupyter": {
     "outputs_hidden": false
    },
    "papermill": {
     "duration": 1.901104,
     "end_time": "2021-10-24T03:17:28.591495",
     "exception": false,
     "start_time": "2021-10-24T03:17:26.690391",
     "status": "completed"
    },
    "tags": []
   },
   "outputs": [
    {
     "name": "stdout",
     "output_type": "stream",
     "text": [
      "Relatório de classificação:\n",
      "                    precision    recall  f1-score   support\n",
      "\n",
      "Attrited Customer     0.8889    0.7095    0.7891       327\n",
      "Existing Customer     0.9462    0.9829    0.9642      1699\n",
      "\n",
      "         accuracy                         0.9388      2026\n",
      "        macro avg     0.9175    0.8462    0.8767      2026\n",
      "     weighted avg     0.9369    0.9388    0.9359      2026\n",
      "\n"
     ]
    },
    {
     "data": {
      "image/png": "[encoded data removed]",
      "text/plain": [
       "<Figure size 432x288 with 2 Axes>"
      ]
     },
     "metadata": {},
     "output_type": "display_data"
    }
   ],
   "source": [
    "cv = StratifiedKFold(n_splits = 5, shuffle = True)\n",
    "y_pred = cross_val_predict(rf, x_teste, y_teste, cv = cv)\n",
    "fig, ax = plt.subplots()\n",
    "sns.heatmap(confusion_matrix(y_teste, y_pred), annot=True, \n",
    "            ax=ax, fmt='d', cmap='Reds')\n",
    "ax.set_title(\"Matriz de Confusão\", fontsize=18)\n",
    "ax.set_ylabel(\"True label\")\n",
    "ax.set_xlabel(\"Predicted Label\")\n",
    "# relatório do modelo\n",
    "print('Relatório de classificação:\\n', classification_report(y_teste, y_pred, digits=4))"
   ]
  },
  {
   "cell_type": "markdown",
   "id": "e0e37ae4",
   "metadata": {
    "_cell_guid": "a1fa0aff-2dfb-4700-ac7c-2ec0918cd05a",
    "_uuid": "b10789c8-7817-491c-aaf3-e166ecd32189",
    "papermill": {
     "duration": 0.05593,
     "end_time": "2021-10-24T03:17:28.703714",
     "exception": false,
     "start_time": "2021-10-24T03:17:28.647784",
     "status": "completed"
    },
    "tags": []
   },
   "source": [
    "# CONSIDERAÇÕES FINAIS\n",
    "\n",
    "## INFELIZMENTE NÃO TIVE TEMPO SUFICIENTE PARA TESTAR OUTROS MODELOS NEM APLICAR ENGENHARIA DE FEATURES QUE TROUXESSEM BENEFICIOS\n",
    "\n",
    "### XGB SE MOSTROU MAIS EFICAZ OBTENDO 95.46% DE ACCURACY E 95.36% DE F1-SCORE"
   ]
  },
  {
   "cell_type": "code",
   "execution_count": null,
   "id": "39d19600",
   "metadata": {
    "_cell_guid": "9a5c9c4e-8329-45ae-969a-214cfd00656e",
    "_uuid": "22818959-9a06-4384-9c27-9f32b7e2578f",
    "collapsed": false,
    "jupyter": {
     "outputs_hidden": false
    },
    "papermill": {
     "duration": 0.056166,
     "end_time": "2021-10-24T03:17:28.816027",
     "exception": false,
     "start_time": "2021-10-24T03:17:28.759861",
     "status": "completed"
    },
    "tags": []
   },
   "outputs": [],
   "source": []
  }
 ],
 "metadata": {
  "kernelspec": {
   "display_name": "Python 3",
   "language": "python",
   "name": "python3"
  },
  "language_info": {
   "codemirror_mode": {
    "name": "ipython",
    "version": 3
   },
   "file_extension": ".py",
   "mimetype": "text/x-python",
   "name": "python",
   "nbconvert_exporter": "python",
   "pygments_lexer": "ipython3",
   "version": "3.7.10"
  },
  "papermill": {
   "default_parameters": {},
   "duration": 20.620806,
   "end_time": "2021-10-24T03:17:29.481341",
   "environment_variables": {},
   "exception": null,
   "input_path": "__notebook__.ipynb",
   "output_path": "__notebook__.ipynb",
   "parameters": {},
   "start_time": "2021-10-24T03:17:08.860535",
   "version": "2.3.3"
  }
 },
 "nbformat": 4,
 "nbformat_minor": 5
}
