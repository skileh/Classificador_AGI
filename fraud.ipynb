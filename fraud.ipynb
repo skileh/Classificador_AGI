{
 "cells": [
  {
   "cell_type": "code",
   "execution_count": 1,
   "id": "320ad11a",
   "metadata": {
    "_cell_guid": "b1076dfc-b9ad-4769-8c92-a6c4dae69d19",
    "_uuid": "8f2839f25d086af736a60e9eeb907d3b93b6e0e5",
    "execution": {
     "iopub.execute_input": "2021-10-24T05:45:05.668279Z",
     "iopub.status.busy": "2021-10-24T05:45:05.666420Z",
     "iopub.status.idle": "2021-10-24T05:45:13.743213Z",
     "shell.execute_reply": "2021-10-24T05:45:13.742511Z",
     "shell.execute_reply.started": "2021-10-24T05:36:20.993182Z"
    },
    "papermill": {
     "duration": 8.105197,
     "end_time": "2021-10-24T05:45:13.743417",
     "exception": false,
     "start_time": "2021-10-24T05:45:05.638220",
     "status": "completed"
    },
    "tags": []
   },
   "outputs": [
    {
     "name": "stdout",
     "output_type": "stream",
     "text": [
      "/kaggle/input/fraud-data/PS_20174392719_1491204439457_log.csv\n"
     ]
    }
   ],
   "source": [
    "# This Python 3 environment comes with many helpful analytics libraries installed\n",
    "# It is defined by the kaggle/python Docker image: https://github.com/kaggle/docker-python\n",
    "# For example, here's several helpful packages to load\n",
    "\n",
    "import numpy as np # linear algebra\n",
    "import pandas as pd # data processing, CSV file I/O (e.g. pd.read_csv)\n",
    "\n",
    "# Input data files are available in the read-only \"../input/\" directory\n",
    "# For example, running this (by clicking run or pressing Shift+Enter) will list all files under the input directory\n",
    "\n",
    "import os\n",
    "for dirname, _, filenames in os.walk('/kaggle/input'):\n",
    "    for filename in filenames:\n",
    "        print(os.path.join(dirname, filename))\n",
    "\n",
    "from sklearn.preprocessing import LabelEncoder\n",
    "from sklearn.model_selection import train_test_split\n",
    "from sklearn.metrics import accuracy_score\n",
    "from sklearn import model_selection, svm\n",
    "\n",
    "import tensorflow as tf\n",
    "from tensorflow.keras.utils import plot_model\n",
    "from tensorflow.keras.models import Model, load_model\n",
    "from tensorflow.keras.callbacks import EarlyStopping\n",
    "from tensorflow.keras.callbacks import ModelCheckpoint\n",
    "from tensorflow.keras.callbacks import ReduceLROnPlateau\n",
    "from tensorflow.keras.layers import BatchNormalization\n",
    "from tensorflow.keras.layers import Dense, Dropout, Input\n",
    "import seaborn as sns; sns.set_theme()\n",
    "from sklearn.metrics import classification_report\n",
    "import matplotlib.pyplot as plt\n",
    "from sklearn.model_selection import cross_val_predict\n",
    "from sklearn.ensemble import RandomForestClassifier\n",
    "from sklearn.metrics import confusion_matrix\n",
    "from sklearn.model_selection import StratifiedKFold\n",
    "from tensorflow.keras.models import Sequential\n",
    "from tensorflow.keras.layers import Dense\n",
    "# You can write up to 20GB to the current directory (/kaggle/working/) that gets preserved as output when you create a version using \"Save & Run All\" \n",
    "# You can also write temporary files to /kaggle/temp/, but they won't be saved outside of the current session"
   ]
  },
  {
   "cell_type": "markdown",
   "id": "8ec7fa61",
   "metadata": {
    "papermill": {
     "duration": 0.021291,
     "end_time": "2021-10-24T05:45:13.788492",
     "exception": false,
     "start_time": "2021-10-24T05:45:13.767201",
     "status": "completed"
    },
    "tags": []
   },
   "source": [
    "# importando nosso dataframe"
   ]
  },
  {
   "cell_type": "code",
   "execution_count": 2,
   "id": "b21f53e2",
   "metadata": {
    "execution": {
     "iopub.execute_input": "2021-10-24T05:45:13.836044Z",
     "iopub.status.busy": "2021-10-24T05:45:13.835330Z",
     "iopub.status.idle": "2021-10-24T05:45:32.614637Z",
     "shell.execute_reply": "2021-10-24T05:45:32.614042Z",
     "shell.execute_reply.started": "2021-10-24T05:36:27.648545Z"
    },
    "papermill": {
     "duration": 18.804817,
     "end_time": "2021-10-24T05:45:32.614853",
     "exception": false,
     "start_time": "2021-10-24T05:45:13.810036",
     "status": "completed"
    },
    "tags": []
   },
   "outputs": [],
   "source": [
    "#carrega a base de treino\n",
    "df=pd.read_csv(r\"../input/fraud-data/PS_20174392719_1491204439457_log.csv\",encoding='latin-1')"
   ]
  },
  {
   "cell_type": "code",
   "execution_count": 3,
   "id": "78a93153",
   "metadata": {
    "execution": {
     "iopub.execute_input": "2021-10-24T05:45:32.666030Z",
     "iopub.status.busy": "2021-10-24T05:45:32.665002Z",
     "iopub.status.idle": "2021-10-24T05:45:32.686019Z",
     "shell.execute_reply": "2021-10-24T05:45:32.686585Z",
     "shell.execute_reply.started": "2021-10-24T05:36:43.571862Z"
    },
    "papermill": {
     "duration": 0.050881,
     "end_time": "2021-10-24T05:45:32.686799",
     "exception": false,
     "start_time": "2021-10-24T05:45:32.635918",
     "status": "completed"
    },
    "tags": []
   },
   "outputs": [
    {
     "data": {
      "text/html": [
       "<div>\n",
       "<style scoped>\n",
       "    .dataframe tbody tr th:only-of-type {\n",
       "        vertical-align: middle;\n",
       "    }\n",
       "\n",
       "    .dataframe tbody tr th {\n",
       "        vertical-align: top;\n",
       "    }\n",
       "\n",
       "    .dataframe thead th {\n",
       "        text-align: right;\n",
       "    }\n",
       "</style>\n",
       "<table border=\"1\" class=\"dataframe\">\n",
       "  <thead>\n",
       "    <tr style=\"text-align: right;\">\n",
       "      <th></th>\n",
       "      <th>step</th>\n",
       "      <th>type</th>\n",
       "      <th>amount</th>\n",
       "      <th>nameOrig</th>\n",
       "      <th>oldbalanceOrg</th>\n",
       "      <th>newbalanceOrig</th>\n",
       "      <th>nameDest</th>\n",
       "      <th>oldbalanceDest</th>\n",
       "      <th>newbalanceDest</th>\n",
       "      <th>isFraud</th>\n",
       "      <th>isFlaggedFraud</th>\n",
       "    </tr>\n",
       "  </thead>\n",
       "  <tbody>\n",
       "    <tr>\n",
       "      <th>0</th>\n",
       "      <td>1</td>\n",
       "      <td>PAYMENT</td>\n",
       "      <td>9839.64</td>\n",
       "      <td>C1231006815</td>\n",
       "      <td>170136.0</td>\n",
       "      <td>160296.36</td>\n",
       "      <td>M1979787155</td>\n",
       "      <td>0.0</td>\n",
       "      <td>0.0</td>\n",
       "      <td>0</td>\n",
       "      <td>0</td>\n",
       "    </tr>\n",
       "    <tr>\n",
       "      <th>1</th>\n",
       "      <td>1</td>\n",
       "      <td>PAYMENT</td>\n",
       "      <td>1864.28</td>\n",
       "      <td>C1666544295</td>\n",
       "      <td>21249.0</td>\n",
       "      <td>19384.72</td>\n",
       "      <td>M2044282225</td>\n",
       "      <td>0.0</td>\n",
       "      <td>0.0</td>\n",
       "      <td>0</td>\n",
       "      <td>0</td>\n",
       "    </tr>\n",
       "    <tr>\n",
       "      <th>2</th>\n",
       "      <td>1</td>\n",
       "      <td>TRANSFER</td>\n",
       "      <td>181.00</td>\n",
       "      <td>C1305486145</td>\n",
       "      <td>181.0</td>\n",
       "      <td>0.00</td>\n",
       "      <td>C553264065</td>\n",
       "      <td>0.0</td>\n",
       "      <td>0.0</td>\n",
       "      <td>1</td>\n",
       "      <td>0</td>\n",
       "    </tr>\n",
       "    <tr>\n",
       "      <th>3</th>\n",
       "      <td>1</td>\n",
       "      <td>CASH_OUT</td>\n",
       "      <td>181.00</td>\n",
       "      <td>C840083671</td>\n",
       "      <td>181.0</td>\n",
       "      <td>0.00</td>\n",
       "      <td>C38997010</td>\n",
       "      <td>21182.0</td>\n",
       "      <td>0.0</td>\n",
       "      <td>1</td>\n",
       "      <td>0</td>\n",
       "    </tr>\n",
       "    <tr>\n",
       "      <th>4</th>\n",
       "      <td>1</td>\n",
       "      <td>PAYMENT</td>\n",
       "      <td>11668.14</td>\n",
       "      <td>C2048537720</td>\n",
       "      <td>41554.0</td>\n",
       "      <td>29885.86</td>\n",
       "      <td>M1230701703</td>\n",
       "      <td>0.0</td>\n",
       "      <td>0.0</td>\n",
       "      <td>0</td>\n",
       "      <td>0</td>\n",
       "    </tr>\n",
       "  </tbody>\n",
       "</table>\n",
       "</div>"
      ],
      "text/plain": [
       "   step      type    amount     nameOrig  oldbalanceOrg  newbalanceOrig  \\\n",
       "0     1   PAYMENT   9839.64  C1231006815       170136.0       160296.36   \n",
       "1     1   PAYMENT   1864.28  C1666544295        21249.0        19384.72   \n",
       "2     1  TRANSFER    181.00  C1305486145          181.0            0.00   \n",
       "3     1  CASH_OUT    181.00   C840083671          181.0            0.00   \n",
       "4     1   PAYMENT  11668.14  C2048537720        41554.0        29885.86   \n",
       "\n",
       "      nameDest  oldbalanceDest  newbalanceDest  isFraud  isFlaggedFraud  \n",
       "0  M1979787155             0.0             0.0        0               0  \n",
       "1  M2044282225             0.0             0.0        0               0  \n",
       "2   C553264065             0.0             0.0        1               0  \n",
       "3    C38997010         21182.0             0.0        1               0  \n",
       "4  M1230701703             0.0             0.0        0               0  "
      ]
     },
     "execution_count": 3,
     "metadata": {},
     "output_type": "execute_result"
    }
   ],
   "source": [
    "df.head()"
   ]
  },
  {
   "cell_type": "markdown",
   "id": "342cee9e",
   "metadata": {
    "papermill": {
     "duration": 0.020874,
     "end_time": "2021-10-24T05:45:32.728474",
     "exception": false,
     "start_time": "2021-10-24T05:45:32.707600",
     "status": "completed"
    },
    "tags": []
   },
   "source": [
    "# Removendo colunas desnecessarias"
   ]
  },
  {
   "cell_type": "code",
   "execution_count": 4,
   "id": "330d2ca8",
   "metadata": {
    "execution": {
     "iopub.execute_input": "2021-10-24T05:45:33.132444Z",
     "iopub.status.busy": "2021-10-24T05:45:32.911032Z",
     "iopub.status.idle": "2021-10-24T05:45:33.135866Z",
     "shell.execute_reply": "2021-10-24T05:45:33.135233Z",
     "shell.execute_reply.started": "2021-10-24T05:36:43.601121Z"
    },
    "papermill": {
     "duration": 0.386856,
     "end_time": "2021-10-24T05:45:33.136020",
     "exception": false,
     "start_time": "2021-10-24T05:45:32.749164",
     "status": "completed"
    },
    "tags": []
   },
   "outputs": [],
   "source": [
    "x = df.drop(['isFraud'],axis='columns')"
   ]
  },
  {
   "cell_type": "markdown",
   "id": "f781d297",
   "metadata": {
    "papermill": {
     "duration": 0.020611,
     "end_time": "2021-10-24T05:45:33.177994",
     "exception": false,
     "start_time": "2021-10-24T05:45:33.157383",
     "status": "completed"
    },
    "tags": []
   },
   "source": [
    "# Como os dados se comportam ?"
   ]
  },
  {
   "cell_type": "code",
   "execution_count": 5,
   "id": "d6c555c4",
   "metadata": {
    "execution": {
     "iopub.execute_input": "2021-10-24T05:45:33.228027Z",
     "iopub.status.busy": "2021-10-24T05:45:33.226612Z",
     "iopub.status.idle": "2021-10-24T05:45:33.566360Z",
     "shell.execute_reply": "2021-10-24T05:45:33.566868Z",
     "shell.execute_reply.started": "2021-10-24T05:36:43.952416Z"
    },
    "papermill": {
     "duration": 0.368381,
     "end_time": "2021-10-24T05:45:33.567039",
     "exception": false,
     "start_time": "2021-10-24T05:45:33.198658",
     "status": "completed"
    },
    "tags": []
   },
   "outputs": [
    {
     "data": {
      "text/html": [
       "<div>\n",
       "<style scoped>\n",
       "    .dataframe tbody tr th:only-of-type {\n",
       "        vertical-align: middle;\n",
       "    }\n",
       "\n",
       "    .dataframe tbody tr th {\n",
       "        vertical-align: top;\n",
       "    }\n",
       "\n",
       "    .dataframe thead th {\n",
       "        text-align: right;\n",
       "    }\n",
       "</style>\n",
       "<table border=\"1\" class=\"dataframe\">\n",
       "  <thead>\n",
       "    <tr style=\"text-align: right;\">\n",
       "      <th></th>\n",
       "      <th>step</th>\n",
       "      <th>type</th>\n",
       "      <th>amount</th>\n",
       "      <th>nameOrig</th>\n",
       "      <th>oldbalanceOrg</th>\n",
       "      <th>newbalanceOrig</th>\n",
       "      <th>nameDest</th>\n",
       "      <th>oldbalanceDest</th>\n",
       "      <th>newbalanceDest</th>\n",
       "      <th>isFraud</th>\n",
       "      <th>isFlaggedFraud</th>\n",
       "    </tr>\n",
       "  </thead>\n",
       "  <tbody>\n",
       "    <tr>\n",
       "      <th>2199174</th>\n",
       "      <td>185</td>\n",
       "      <td>CASH_IN</td>\n",
       "      <td>22066.45</td>\n",
       "      <td>C651427991</td>\n",
       "      <td>155.00</td>\n",
       "      <td>22221.45</td>\n",
       "      <td>C471258515</td>\n",
       "      <td>1464187.89</td>\n",
       "      <td>1078797.88</td>\n",
       "      <td>0</td>\n",
       "      <td>0</td>\n",
       "    </tr>\n",
       "    <tr>\n",
       "      <th>1696988</th>\n",
       "      <td>159</td>\n",
       "      <td>CASH_IN</td>\n",
       "      <td>357377.78</td>\n",
       "      <td>C2091812018</td>\n",
       "      <td>20400.00</td>\n",
       "      <td>377777.78</td>\n",
       "      <td>C683354465</td>\n",
       "      <td>1610670.86</td>\n",
       "      <td>1253293.08</td>\n",
       "      <td>0</td>\n",
       "      <td>0</td>\n",
       "    </tr>\n",
       "    <tr>\n",
       "      <th>4821520</th>\n",
       "      <td>346</td>\n",
       "      <td>CASH_IN</td>\n",
       "      <td>131727.61</td>\n",
       "      <td>C684617606</td>\n",
       "      <td>4470756.29</td>\n",
       "      <td>4602483.90</td>\n",
       "      <td>C2107760546</td>\n",
       "      <td>597494.00</td>\n",
       "      <td>465766.39</td>\n",
       "      <td>0</td>\n",
       "      <td>0</td>\n",
       "    </tr>\n",
       "    <tr>\n",
       "      <th>89395</th>\n",
       "      <td>10</td>\n",
       "      <td>CASH_OUT</td>\n",
       "      <td>46468.13</td>\n",
       "      <td>C342845386</td>\n",
       "      <td>0.00</td>\n",
       "      <td>0.00</td>\n",
       "      <td>C751147807</td>\n",
       "      <td>2364272.46</td>\n",
       "      <td>2410740.59</td>\n",
       "      <td>0</td>\n",
       "      <td>0</td>\n",
       "    </tr>\n",
       "    <tr>\n",
       "      <th>1187144</th>\n",
       "      <td>132</td>\n",
       "      <td>CASH_OUT</td>\n",
       "      <td>24581.85</td>\n",
       "      <td>C1307230417</td>\n",
       "      <td>0.00</td>\n",
       "      <td>0.00</td>\n",
       "      <td>C731947061</td>\n",
       "      <td>1382750.52</td>\n",
       "      <td>1407332.36</td>\n",
       "      <td>0</td>\n",
       "      <td>0</td>\n",
       "    </tr>\n",
       "    <tr>\n",
       "      <th>5728258</th>\n",
       "      <td>399</td>\n",
       "      <td>PAYMENT</td>\n",
       "      <td>73709.07</td>\n",
       "      <td>C668009719</td>\n",
       "      <td>130269.67</td>\n",
       "      <td>56560.60</td>\n",
       "      <td>M1001695424</td>\n",
       "      <td>0.00</td>\n",
       "      <td>0.00</td>\n",
       "      <td>0</td>\n",
       "      <td>0</td>\n",
       "    </tr>\n",
       "    <tr>\n",
       "      <th>546962</th>\n",
       "      <td>21</td>\n",
       "      <td>CASH_OUT</td>\n",
       "      <td>368570.88</td>\n",
       "      <td>C548482077</td>\n",
       "      <td>0.00</td>\n",
       "      <td>0.00</td>\n",
       "      <td>C1432083914</td>\n",
       "      <td>2451811.78</td>\n",
       "      <td>4252641.27</td>\n",
       "      <td>0</td>\n",
       "      <td>0</td>\n",
       "    </tr>\n",
       "    <tr>\n",
       "      <th>6095036</th>\n",
       "      <td>522</td>\n",
       "      <td>CASH_OUT</td>\n",
       "      <td>38107.61</td>\n",
       "      <td>C484650586</td>\n",
       "      <td>302282.00</td>\n",
       "      <td>264174.39</td>\n",
       "      <td>C1918303384</td>\n",
       "      <td>0.00</td>\n",
       "      <td>38107.61</td>\n",
       "      <td>0</td>\n",
       "      <td>0</td>\n",
       "    </tr>\n",
       "    <tr>\n",
       "      <th>1625433</th>\n",
       "      <td>157</td>\n",
       "      <td>PAYMENT</td>\n",
       "      <td>19041.33</td>\n",
       "      <td>C1679726304</td>\n",
       "      <td>0.00</td>\n",
       "      <td>0.00</td>\n",
       "      <td>M750436827</td>\n",
       "      <td>0.00</td>\n",
       "      <td>0.00</td>\n",
       "      <td>0</td>\n",
       "      <td>0</td>\n",
       "    </tr>\n",
       "    <tr>\n",
       "      <th>2007974</th>\n",
       "      <td>179</td>\n",
       "      <td>TRANSFER</td>\n",
       "      <td>661871.81</td>\n",
       "      <td>C33015417</td>\n",
       "      <td>0.00</td>\n",
       "      <td>0.00</td>\n",
       "      <td>C324589222</td>\n",
       "      <td>1842451.86</td>\n",
       "      <td>2504323.67</td>\n",
       "      <td>0</td>\n",
       "      <td>0</td>\n",
       "    </tr>\n",
       "  </tbody>\n",
       "</table>\n",
       "</div>"
      ],
      "text/plain": [
       "         step      type     amount     nameOrig  oldbalanceOrg  \\\n",
       "2199174   185   CASH_IN   22066.45   C651427991         155.00   \n",
       "1696988   159   CASH_IN  357377.78  C2091812018       20400.00   \n",
       "4821520   346   CASH_IN  131727.61   C684617606     4470756.29   \n",
       "89395      10  CASH_OUT   46468.13   C342845386           0.00   \n",
       "1187144   132  CASH_OUT   24581.85  C1307230417           0.00   \n",
       "5728258   399   PAYMENT   73709.07   C668009719      130269.67   \n",
       "546962     21  CASH_OUT  368570.88   C548482077           0.00   \n",
       "6095036   522  CASH_OUT   38107.61   C484650586      302282.00   \n",
       "1625433   157   PAYMENT   19041.33  C1679726304           0.00   \n",
       "2007974   179  TRANSFER  661871.81    C33015417           0.00   \n",
       "\n",
       "         newbalanceOrig     nameDest  oldbalanceDest  newbalanceDest  isFraud  \\\n",
       "2199174        22221.45   C471258515      1464187.89      1078797.88        0   \n",
       "1696988       377777.78   C683354465      1610670.86      1253293.08        0   \n",
       "4821520      4602483.90  C2107760546       597494.00       465766.39        0   \n",
       "89395              0.00   C751147807      2364272.46      2410740.59        0   \n",
       "1187144            0.00   C731947061      1382750.52      1407332.36        0   \n",
       "5728258        56560.60  M1001695424            0.00            0.00        0   \n",
       "546962             0.00  C1432083914      2451811.78      4252641.27        0   \n",
       "6095036       264174.39  C1918303384            0.00        38107.61        0   \n",
       "1625433            0.00   M750436827            0.00            0.00        0   \n",
       "2007974            0.00   C324589222      1842451.86      2504323.67        0   \n",
       "\n",
       "         isFlaggedFraud  \n",
       "2199174               0  \n",
       "1696988               0  \n",
       "4821520               0  \n",
       "89395                 0  \n",
       "1187144               0  \n",
       "5728258               0  \n",
       "546962                0  \n",
       "6095036               0  \n",
       "1625433               0  \n",
       "2007974               0  "
      ]
     },
     "execution_count": 5,
     "metadata": {},
     "output_type": "execute_result"
    }
   ],
   "source": [
    "df.sample(n=10)"
   ]
  },
  {
   "cell_type": "code",
   "execution_count": 6,
   "id": "0aa3d44c",
   "metadata": {
    "execution": {
     "iopub.execute_input": "2021-10-24T05:45:33.628934Z",
     "iopub.status.busy": "2021-10-24T05:45:33.617783Z",
     "iopub.status.idle": "2021-10-24T05:45:33.632456Z",
     "shell.execute_reply": "2021-10-24T05:45:33.631861Z",
     "shell.execute_reply.started": "2021-10-24T05:36:44.273113Z"
    },
    "papermill": {
     "duration": 0.044062,
     "end_time": "2021-10-24T05:45:33.632596",
     "exception": false,
     "start_time": "2021-10-24T05:45:33.588534",
     "status": "completed"
    },
    "tags": []
   },
   "outputs": [
    {
     "name": "stdout",
     "output_type": "stream",
     "text": [
      "<class 'pandas.core.frame.DataFrame'>\n",
      "RangeIndex: 6362620 entries, 0 to 6362619\n",
      "Data columns (total 10 columns):\n",
      " #   Column          Dtype  \n",
      "---  ------          -----  \n",
      " 0   step            int64  \n",
      " 1   type            object \n",
      " 2   amount          float64\n",
      " 3   nameOrig        object \n",
      " 4   oldbalanceOrg   float64\n",
      " 5   newbalanceOrig  float64\n",
      " 6   nameDest        object \n",
      " 7   oldbalanceDest  float64\n",
      " 8   newbalanceDest  float64\n",
      " 9   isFlaggedFraud  int64  \n",
      "dtypes: float64(5), int64(2), object(3)\n",
      "memory usage: 485.4+ MB\n"
     ]
    }
   ],
   "source": [
    "x.info()"
   ]
  },
  {
   "cell_type": "markdown",
   "id": "81108095",
   "metadata": {
    "papermill": {
     "duration": 0.021341,
     "end_time": "2021-10-24T05:45:33.675868",
     "exception": false,
     "start_time": "2021-10-24T05:45:33.654527",
     "status": "completed"
    },
    "tags": []
   },
   "source": [
    "### Label encoder"
   ]
  },
  {
   "cell_type": "code",
   "execution_count": 7,
   "id": "e5585170",
   "metadata": {
    "execution": {
     "iopub.execute_input": "2021-10-24T05:45:34.007282Z",
     "iopub.status.busy": "2021-10-24T05:45:34.006351Z",
     "iopub.status.idle": "2021-10-24T05:45:34.009649Z",
     "shell.execute_reply": "2021-10-24T05:45:34.009099Z",
     "shell.execute_reply.started": "2021-10-24T05:36:44.290561Z"
    },
    "papermill": {
     "duration": 0.312374,
     "end_time": "2021-10-24T05:45:34.009808",
     "exception": false,
     "start_time": "2021-10-24T05:45:33.697434",
     "status": "completed"
    },
    "tags": []
   },
   "outputs": [],
   "source": [
    "\n",
    "labelencoder = LabelEncoder()\n",
    "x = x.drop(['nameOrig','nameDest'], axis='columns')\n",
    "#x['nameOrig'] = labelencoder.fit_transform(x['nameOrig'])\n",
    "#x['nameDest'] = labelencoder.fit_transform(x['nameDest'])"
   ]
  },
  {
   "cell_type": "markdown",
   "id": "145c6304",
   "metadata": {
    "papermill": {
     "duration": 0.021926,
     "end_time": "2021-10-24T05:45:34.053492",
     "exception": false,
     "start_time": "2021-10-24T05:45:34.031566",
     "status": "completed"
    },
    "tags": []
   },
   "source": [
    "### one hot encoder :"
   ]
  },
  {
   "cell_type": "code",
   "execution_count": 8,
   "id": "93e0da49",
   "metadata": {
    "execution": {
     "iopub.execute_input": "2021-10-24T05:45:34.704782Z",
     "iopub.status.busy": "2021-10-24T05:45:34.704076Z",
     "iopub.status.idle": "2021-10-24T05:45:35.229339Z",
     "shell.execute_reply": "2021-10-24T05:45:35.228704Z",
     "shell.execute_reply.started": "2021-10-24T05:36:44.579074Z"
    },
    "papermill": {
     "duration": 1.154312,
     "end_time": "2021-10-24T05:45:35.229482",
     "exception": false,
     "start_time": "2021-10-24T05:45:34.075170",
     "status": "completed"
    },
    "tags": []
   },
   "outputs": [],
   "source": [
    "x = pd.get_dummies(x)"
   ]
  },
  {
   "cell_type": "markdown",
   "id": "4ecc4eb0",
   "metadata": {
    "papermill": {
     "duration": 0.021104,
     "end_time": "2021-10-24T05:45:35.272621",
     "exception": false,
     "start_time": "2021-10-24T05:45:35.251517",
     "status": "completed"
    },
    "tags": []
   },
   "source": [
    "### Como ficaram os dados?"
   ]
  },
  {
   "cell_type": "code",
   "execution_count": 9,
   "id": "d9f3db57",
   "metadata": {
    "execution": {
     "iopub.execute_input": "2021-10-24T05:45:35.324892Z",
     "iopub.status.busy": "2021-10-24T05:45:35.323870Z",
     "iopub.status.idle": "2021-10-24T05:45:35.331129Z",
     "shell.execute_reply": "2021-10-24T05:45:35.330554Z",
     "shell.execute_reply.started": "2021-10-24T05:36:45.587101Z"
    },
    "papermill": {
     "duration": 0.037255,
     "end_time": "2021-10-24T05:45:35.331283",
     "exception": false,
     "start_time": "2021-10-24T05:45:35.294028",
     "status": "completed"
    },
    "tags": []
   },
   "outputs": [
    {
     "name": "stdout",
     "output_type": "stream",
     "text": [
      "<class 'pandas.core.frame.DataFrame'>\n",
      "RangeIndex: 6362620 entries, 0 to 6362619\n",
      "Data columns (total 12 columns):\n",
      " #   Column          Dtype  \n",
      "---  ------          -----  \n",
      " 0   step            int64  \n",
      " 1   amount          float64\n",
      " 2   oldbalanceOrg   float64\n",
      " 3   newbalanceOrig  float64\n",
      " 4   oldbalanceDest  float64\n",
      " 5   newbalanceDest  float64\n",
      " 6   isFlaggedFraud  int64  \n",
      " 7   type_CASH_IN    uint8  \n",
      " 8   type_CASH_OUT   uint8  \n",
      " 9   type_DEBIT      uint8  \n",
      " 10  type_PAYMENT    uint8  \n",
      " 11  type_TRANSFER   uint8  \n",
      "dtypes: float64(5), int64(2), uint8(5)\n",
      "memory usage: 370.1 MB\n"
     ]
    }
   ],
   "source": [
    "x.info()"
   ]
  },
  {
   "cell_type": "code",
   "execution_count": 10,
   "id": "8a8350d1",
   "metadata": {
    "execution": {
     "iopub.execute_input": "2021-10-24T05:45:35.379272Z",
     "iopub.status.busy": "2021-10-24T05:45:35.378289Z",
     "iopub.status.idle": "2021-10-24T05:45:35.394611Z",
     "shell.execute_reply": "2021-10-24T05:45:35.395104Z",
     "shell.execute_reply.started": "2021-10-24T05:36:45.601768Z"
    },
    "papermill": {
     "duration": 0.041836,
     "end_time": "2021-10-24T05:45:35.395295",
     "exception": false,
     "start_time": "2021-10-24T05:45:35.353459",
     "status": "completed"
    },
    "tags": []
   },
   "outputs": [
    {
     "data": {
      "text/html": [
       "<div>\n",
       "<style scoped>\n",
       "    .dataframe tbody tr th:only-of-type {\n",
       "        vertical-align: middle;\n",
       "    }\n",
       "\n",
       "    .dataframe tbody tr th {\n",
       "        vertical-align: top;\n",
       "    }\n",
       "\n",
       "    .dataframe thead th {\n",
       "        text-align: right;\n",
       "    }\n",
       "</style>\n",
       "<table border=\"1\" class=\"dataframe\">\n",
       "  <thead>\n",
       "    <tr style=\"text-align: right;\">\n",
       "      <th></th>\n",
       "      <th>step</th>\n",
       "      <th>amount</th>\n",
       "      <th>oldbalanceOrg</th>\n",
       "      <th>newbalanceOrig</th>\n",
       "      <th>oldbalanceDest</th>\n",
       "      <th>newbalanceDest</th>\n",
       "      <th>isFlaggedFraud</th>\n",
       "      <th>type_CASH_IN</th>\n",
       "      <th>type_CASH_OUT</th>\n",
       "      <th>type_DEBIT</th>\n",
       "      <th>type_PAYMENT</th>\n",
       "      <th>type_TRANSFER</th>\n",
       "    </tr>\n",
       "  </thead>\n",
       "  <tbody>\n",
       "    <tr>\n",
       "      <th>0</th>\n",
       "      <td>1</td>\n",
       "      <td>9839.64</td>\n",
       "      <td>170136.0</td>\n",
       "      <td>160296.36</td>\n",
       "      <td>0.0</td>\n",
       "      <td>0.0</td>\n",
       "      <td>0</td>\n",
       "      <td>0</td>\n",
       "      <td>0</td>\n",
       "      <td>0</td>\n",
       "      <td>1</td>\n",
       "      <td>0</td>\n",
       "    </tr>\n",
       "    <tr>\n",
       "      <th>1</th>\n",
       "      <td>1</td>\n",
       "      <td>1864.28</td>\n",
       "      <td>21249.0</td>\n",
       "      <td>19384.72</td>\n",
       "      <td>0.0</td>\n",
       "      <td>0.0</td>\n",
       "      <td>0</td>\n",
       "      <td>0</td>\n",
       "      <td>0</td>\n",
       "      <td>0</td>\n",
       "      <td>1</td>\n",
       "      <td>0</td>\n",
       "    </tr>\n",
       "    <tr>\n",
       "      <th>2</th>\n",
       "      <td>1</td>\n",
       "      <td>181.00</td>\n",
       "      <td>181.0</td>\n",
       "      <td>0.00</td>\n",
       "      <td>0.0</td>\n",
       "      <td>0.0</td>\n",
       "      <td>0</td>\n",
       "      <td>0</td>\n",
       "      <td>0</td>\n",
       "      <td>0</td>\n",
       "      <td>0</td>\n",
       "      <td>1</td>\n",
       "    </tr>\n",
       "    <tr>\n",
       "      <th>3</th>\n",
       "      <td>1</td>\n",
       "      <td>181.00</td>\n",
       "      <td>181.0</td>\n",
       "      <td>0.00</td>\n",
       "      <td>21182.0</td>\n",
       "      <td>0.0</td>\n",
       "      <td>0</td>\n",
       "      <td>0</td>\n",
       "      <td>1</td>\n",
       "      <td>0</td>\n",
       "      <td>0</td>\n",
       "      <td>0</td>\n",
       "    </tr>\n",
       "    <tr>\n",
       "      <th>4</th>\n",
       "      <td>1</td>\n",
       "      <td>11668.14</td>\n",
       "      <td>41554.0</td>\n",
       "      <td>29885.86</td>\n",
       "      <td>0.0</td>\n",
       "      <td>0.0</td>\n",
       "      <td>0</td>\n",
       "      <td>0</td>\n",
       "      <td>0</td>\n",
       "      <td>0</td>\n",
       "      <td>1</td>\n",
       "      <td>0</td>\n",
       "    </tr>\n",
       "  </tbody>\n",
       "</table>\n",
       "</div>"
      ],
      "text/plain": [
       "   step    amount  oldbalanceOrg  newbalanceOrig  oldbalanceDest  \\\n",
       "0     1   9839.64       170136.0       160296.36             0.0   \n",
       "1     1   1864.28        21249.0        19384.72             0.0   \n",
       "2     1    181.00          181.0            0.00             0.0   \n",
       "3     1    181.00          181.0            0.00         21182.0   \n",
       "4     1  11668.14        41554.0        29885.86             0.0   \n",
       "\n",
       "   newbalanceDest  isFlaggedFraud  type_CASH_IN  type_CASH_OUT  type_DEBIT  \\\n",
       "0             0.0               0             0              0           0   \n",
       "1             0.0               0             0              0           0   \n",
       "2             0.0               0             0              0           0   \n",
       "3             0.0               0             0              1           0   \n",
       "4             0.0               0             0              0           0   \n",
       "\n",
       "   type_PAYMENT  type_TRANSFER  \n",
       "0             1              0  \n",
       "1             1              0  \n",
       "2             0              1  \n",
       "3             0              0  \n",
       "4             1              0  "
      ]
     },
     "execution_count": 10,
     "metadata": {},
     "output_type": "execute_result"
    }
   ],
   "source": [
    "x.head()"
   ]
  },
  {
   "cell_type": "markdown",
   "id": "0e5fa4e0",
   "metadata": {
    "papermill": {
     "duration": 0.022036,
     "end_time": "2021-10-24T05:45:35.439667",
     "exception": false,
     "start_time": "2021-10-24T05:45:35.417631",
     "status": "completed"
    },
    "tags": []
   },
   "source": [
    "# SEPARAÇÃO TREINO E TESTE"
   ]
  },
  {
   "cell_type": "code",
   "execution_count": 11,
   "id": "a1433b49",
   "metadata": {
    "execution": {
     "iopub.execute_input": "2021-10-24T05:45:35.488978Z",
     "iopub.status.busy": "2021-10-24T05:45:35.488011Z",
     "iopub.status.idle": "2021-10-24T05:45:38.663276Z",
     "shell.execute_reply": "2021-10-24T05:45:38.662388Z",
     "shell.execute_reply.started": "2021-10-24T05:36:45.624327Z"
    },
    "papermill": {
     "duration": 3.2014,
     "end_time": "2021-10-24T05:45:38.663433",
     "exception": false,
     "start_time": "2021-10-24T05:45:35.462033",
     "status": "completed"
    },
    "tags": []
   },
   "outputs": [],
   "source": [
    "#Separação entre treino e teste\n",
    "from sklearn.preprocessing import RobustScaler\n",
    "y=df['isFraud'].to_numpy().reshape(-1,1)\n",
    "#del df \n",
    "scaler = RobustScaler()\n",
    "x = scaler.fit_transform(x)\n",
    "np.random.seed(50)\n",
    "xx = x.reshape(-1,1, x.shape[-1])\n",
    "x_treino=xx\n",
    "y_treino=y\n",
    "#x_treino, x_teste, y_treino, y_teste = train_test_split (x, y, test_size = 0.20, random_state = 42)"
   ]
  },
  {
   "cell_type": "code",
   "execution_count": 12,
   "id": "4f9c717d",
   "metadata": {
    "execution": {
     "iopub.execute_input": "2021-10-24T05:45:38.719466Z",
     "iopub.status.busy": "2021-10-24T05:45:38.718654Z",
     "iopub.status.idle": "2021-10-24T05:45:38.724230Z",
     "shell.execute_reply": "2021-10-24T05:45:38.724722Z",
     "shell.execute_reply.started": "2021-10-24T05:36:48.496032Z"
    },
    "papermill": {
     "duration": 0.034841,
     "end_time": "2021-10-24T05:45:38.724970",
     "exception": false,
     "start_time": "2021-10-24T05:45:38.690129",
     "status": "completed"
    },
    "tags": []
   },
   "outputs": [
    {
     "name": "stdout",
     "output_type": "stream",
     "text": [
      "train: (6362620, 1, 12) \n",
      "targets: (6362620, 1)\n"
     ]
    }
   ],
   "source": [
    "print(f\"train: {x_treino.shape} \\ntargets: {y_treino.shape}\")"
   ]
  },
  {
   "cell_type": "markdown",
   "id": "59f7d432",
   "metadata": {
    "papermill": {
     "duration": 0.025328,
     "end_time": "2021-10-24T05:45:38.776680",
     "exception": false,
     "start_time": "2021-10-24T05:45:38.751352",
     "status": "completed"
    },
    "tags": []
   },
   "source": [
    "# PIPELINE DO NOSSO MODELO"
   ]
  },
  {
   "cell_type": "code",
   "execution_count": 13,
   "id": "317a67d5",
   "metadata": {
    "execution": {
     "iopub.execute_input": "2021-10-24T05:45:38.831933Z",
     "iopub.status.busy": "2021-10-24T05:45:38.831058Z",
     "iopub.status.idle": "2021-10-24T05:45:38.837016Z",
     "shell.execute_reply": "2021-10-24T05:45:38.837561Z",
     "shell.execute_reply.started": "2021-10-24T05:36:48.502497Z"
    },
    "papermill": {
     "duration": 0.035123,
     "end_time": "2021-10-24T05:45:38.837773",
     "exception": false,
     "start_time": "2021-10-24T05:45:38.802650",
     "status": "completed"
    },
    "tags": []
   },
   "outputs": [],
   "source": [
    "def build_model():\n",
    "    model = Sequential()\n",
    "\n",
    "    model.add(Input(shape=x_treino.shape[-2:]))\n",
    "    model.add(Dense(16, activation='relu', input_dim=8))\n",
    "\n",
    "    # Add fully connected layer with a ReLU activation function\n",
    "    model.add(Dense(16, activation='relu'))\n",
    "\n",
    "    # Add fully connected layer with a sigmoid activation function\n",
    "    model.add(Dense(units=1, activation='sigmoid'))\n",
    "\n",
    "    model.compile(optimizer='rmsprop',\n",
    "                  loss='binary_crossentropy',\n",
    "                  metrics=['accuracy'])\n",
    "    return model"
   ]
  },
  {
   "cell_type": "code",
   "execution_count": 14,
   "id": "a0f47679",
   "metadata": {
    "execution": {
     "iopub.execute_input": "2021-10-24T05:45:38.891842Z",
     "iopub.status.busy": "2021-10-24T05:45:38.891074Z",
     "iopub.status.idle": "2021-10-24T05:45:39.095624Z",
     "shell.execute_reply": "2021-10-24T05:45:39.096217Z",
     "shell.execute_reply.started": "2021-10-24T05:36:48.514705Z"
    },
    "papermill": {
     "duration": 0.233319,
     "end_time": "2021-10-24T05:45:39.096397",
     "exception": false,
     "start_time": "2021-10-24T05:45:38.863078",
     "status": "completed"
    },
    "tags": []
   },
   "outputs": [
    {
     "name": "stdout",
     "output_type": "stream",
     "text": [
      "Model: \"sequential\"\n",
      "_________________________________________________________________\n",
      "Layer (type)                 Output Shape              Param #   \n",
      "=================================================================\n",
      "dense (Dense)                (None, 1, 16)             208       \n",
      "_________________________________________________________________\n",
      "dense_1 (Dense)              (None, 1, 16)             272       \n",
      "_________________________________________________________________\n",
      "dense_2 (Dense)              (None, 1, 1)              17        \n",
      "=================================================================\n",
      "Total params: 497\n",
      "Trainable params: 497\n",
      "Non-trainable params: 0\n",
      "_________________________________________________________________\n"
     ]
    },
    {
     "name": "stderr",
     "output_type": "stream",
     "text": [
      "\n",
      "User settings:\n",
      "\n",
      "   KMP_AFFINITY=granularity=fine,verbose,compact,1,0\n",
      "   KMP_BLOCKTIME=0\n",
      "   KMP_DUPLICATE_LIB_OK=True\n",
      "   KMP_INIT_AT_FORK=FALSE\n",
      "   KMP_SETTINGS=1\n",
      "   KMP_WARNINGS=0\n",
      "\n",
      "Effective settings:\n",
      "\n",
      "   KMP_ABORT_DELAY=0\n",
      "   KMP_ADAPTIVE_LOCK_PROPS='1,1024'\n",
      "   KMP_ALIGN_ALLOC=64\n",
      "   KMP_ALL_THREADPRIVATE=128\n",
      "   KMP_ATOMIC_MODE=2\n",
      "   KMP_BLOCKTIME=0\n",
      "   KMP_CPUINFO_FILE: value is not defined\n",
      "   KMP_DETERMINISTIC_REDUCTION=false\n",
      "   KMP_DEVICE_THREAD_LIMIT=2147483647\n",
      "   KMP_DISP_NUM_BUFFERS=7\n",
      "   KMP_DUPLICATE_LIB_OK=true\n",
      "   KMP_ENABLE_TASK_THROTTLING=true\n",
      "   KMP_FORCE_REDUCTION: value is not defined\n",
      "   KMP_FOREIGN_THREADS_THREADPRIVATE=true\n",
      "   KMP_FORKJOIN_BARRIER='2,2'\n",
      "   KMP_FORKJOIN_BARRIER_PATTERN='hyper,hyper'\n",
      "   KMP_GTID_MODE=3\n",
      "   KMP_HANDLE_SIGNALS=false\n",
      "   KMP_HOT_TEAMS_MAX_LEVEL=1\n",
      "   KMP_HOT_TEAMS_MODE=0\n",
      "   KMP_INIT_AT_FORK=true\n",
      "   KMP_LIBRARY=throughput\n",
      "   KMP_LOCK_KIND=queuing\n",
      "   KMP_MALLOC_POOL_INCR=1M\n",
      "   KMP_NUM_LOCKS_IN_BLOCK=1\n",
      "   KMP_PLAIN_BARRIER='2,2'\n",
      "   KMP_PLAIN_BARRIER_PATTERN='hyper,hyper'\n",
      "   KMP_REDUCTION_BARRIER='1,1'\n",
      "   KMP_REDUCTION_BARRIER_PATTERN='hyper,hyper'\n",
      "   KMP_SCHEDULE='static,balanced;guided,iterative'\n",
      "   KMP_SETTINGS=true\n",
      "   KMP_SPIN_BACKOFF_PARAMS='4096,100'\n",
      "   KMP_STACKOFFSET=64\n",
      "   KMP_STACKPAD=0\n",
      "   KMP_STACKSIZE=8M\n",
      "   KMP_STORAGE_MAP=false\n",
      "   KMP_TASKING=2\n",
      "   KMP_TASKLOOP_MIN_TASKS=0\n",
      "   KMP_TASK_STEALING_CONSTRAINT=1\n",
      "   KMP_TEAMS_THREAD_LIMIT=4\n",
      "   KMP_TOPOLOGY_METHOD=all\n",
      "   KMP_USE_YIELD=1\n",
      "   KMP_VERSION=false\n",
      "   KMP_WARNINGS=false\n",
      "   OMP_AFFINITY_FORMAT='OMP: pid %P tid %i thread %n bound to OS proc set {%A}'\n",
      "   OMP_ALLOCATOR=omp_default_mem_alloc\n",
      "   OMP_CANCELLATION=false\n",
      "   OMP_DEFAULT_DEVICE=0\n",
      "   OMP_DISPLAY_AFFINITY=false\n",
      "   OMP_DISPLAY_ENV=false\n",
      "   OMP_DYNAMIC=false\n",
      "   OMP_MAX_ACTIVE_LEVELS=1\n",
      "   OMP_MAX_TASK_PRIORITY=0\n",
      "   OMP_NESTED: deprecated; max-active-levels-var=1\n",
      "   OMP_NUM_THREADS: value is not defined\n",
      "   OMP_PLACES: value is not defined\n",
      "   OMP_PROC_BIND='intel'\n",
      "   OMP_SCHEDULE='static'\n",
      "   OMP_STACKSIZE=8M\n",
      "   OMP_TARGET_OFFLOAD=DEFAULT\n",
      "   OMP_THREAD_LIMIT=2147483647\n",
      "   OMP_WAIT_POLICY=PASSIVE\n",
      "   KMP_AFFINITY='verbose,warnings,respect,granularity=fine,compact,1,0'\n",
      "\n",
      "2021-10-24 05:45:38.940057: I tensorflow/core/common_runtime/process_util.cc:146] Creating new thread pool with default inter op setting: 2. Tune using inter_op_parallelism_threads for best performance.\n"
     ]
    }
   ],
   "source": [
    "model = build_model()\n",
    "model.summary()"
   ]
  },
  {
   "cell_type": "markdown",
   "id": "52c8b0b6",
   "metadata": {
    "papermill": {
     "duration": 0.023554,
     "end_time": "2021-10-24T05:45:39.143994",
     "exception": false,
     "start_time": "2021-10-24T05:45:39.120440",
     "status": "completed"
    },
    "tags": []
   },
   "source": [
    "# VISUALIZAR FICA MAIS FACIL..."
   ]
  },
  {
   "cell_type": "code",
   "execution_count": 15,
   "id": "c9f74e22",
   "metadata": {
    "execution": {
     "iopub.execute_input": "2021-10-24T05:45:39.195052Z",
     "iopub.status.busy": "2021-10-24T05:45:39.194402Z",
     "iopub.status.idle": "2021-10-24T05:45:40.459314Z",
     "shell.execute_reply": "2021-10-24T05:45:40.460014Z",
     "shell.execute_reply.started": "2021-10-24T05:36:48.732821Z"
    },
    "papermill": {
     "duration": 1.292651,
     "end_time": "2021-10-24T05:45:40.460364",
     "exception": false,
     "start_time": "2021-10-24T05:45:39.167713",
     "status": "completed"
    },
    "tags": []
   },
   "outputs": [
    {
     "data": {
      "image/png": "[encoded data removed]",
      "text/plain": [
       "<IPython.core.display.Image object>"
      ]
     },
     "execution_count": 15,
     "metadata": {},
     "output_type": "execute_result"
    }
   ],
   "source": [
    "plot_model(\n",
    "    model, \n",
    "    to_file='model.png', \n",
    "    show_shapes=True,\n",
    "    show_layer_names=True\n",
    ")"
   ]
  },
  {
   "cell_type": "markdown",
   "id": "0aed2a6c",
   "metadata": {
    "papermill": {
     "duration": 0.025073,
     "end_time": "2021-10-24T05:45:40.511404",
     "exception": false,
     "start_time": "2021-10-24T05:45:40.486331",
     "status": "completed"
    },
    "tags": []
   },
   "source": [
    "# FUNCOES PARA PLOTAR OS GRAFICOS"
   ]
  },
  {
   "cell_type": "code",
   "execution_count": 16,
   "id": "178e6ba2",
   "metadata": {
    "execution": {
     "iopub.execute_input": "2021-10-24T05:45:40.565832Z",
     "iopub.status.busy": "2021-10-24T05:45:40.565073Z",
     "iopub.status.idle": "2021-10-24T05:45:40.577043Z",
     "shell.execute_reply": "2021-10-24T05:45:40.577605Z",
     "shell.execute_reply.started": "2021-10-24T05:36:49.891234Z"
    },
    "papermill": {
     "duration": 0.04171,
     "end_time": "2021-10-24T05:45:40.577801",
     "exception": false,
     "start_time": "2021-10-24T05:45:40.536091",
     "status": "completed"
    },
    "tags": []
   },
   "outputs": [],
   "source": [
    "def display_accuracy_graph(training_acc, validation_acc):\n",
    "    epochs = range(1, len(training_acc) + 1)\n",
    "\n",
    "    plt.plot(epochs, training_acc, 'bo', label='Training acc')\n",
    "    plt.plot(epochs, validation_acc, 'b', label='Validation acc')\n",
    "    plt.title('Training and validation accuracy')\n",
    "    plt.xlabel('Epochs')\n",
    "    plt.ylabel('Loss')\n",
    "    plt.legend()\n",
    "\n",
    "def display_loss_graph(training_loss, validation_loss):\n",
    "    epochs = range(1, len(training_loss) + 1)\n",
    "\n",
    "    plt.plot(epochs, training_loss, 'bo', label='Training loss')\n",
    "    plt.plot(epochs, validation_loss, 'b', label='Validation loss')\n",
    "    plt.title('Training and validation loss')\n",
    "    plt.xlabel('Epochs')\n",
    "    plt.ylabel('Loss')\n",
    "    plt.legend()\n",
    "\n",
    "def show_metrics(history):\n",
    "    print(history.history)\n",
    "\n",
    "    plt.figure(1)\n",
    "    plt.subplot(211)\n",
    "    display_loss_graph(history.history['loss'], history.history['val_loss'])\n",
    "\n",
    "    plt.subplot(212)\n",
    "    display_accuracy_graph(history.history['accuracy'], history.history['val_accuracy'])\n",
    "\n",
    "    plt.show()"
   ]
  },
  {
   "cell_type": "markdown",
   "id": "71900320",
   "metadata": {
    "papermill": {
     "duration": 0.025404,
     "end_time": "2021-10-24T05:45:40.628108",
     "exception": false,
     "start_time": "2021-10-24T05:45:40.602704",
     "status": "completed"
    },
    "tags": []
   },
   "source": [
    "# VAMOS EXECUTAR NOSSO MODELO UTILIZANDO TPU \n",
    "## CASO NAO POSSUA UMA TPU BASTA COMENTAR PRIMEIRA LINHA"
   ]
  },
  {
   "cell_type": "code",
   "execution_count": 17,
   "id": "5cc88c85",
   "metadata": {
    "execution": {
     "iopub.execute_input": "2021-10-24T05:45:40.686380Z",
     "iopub.status.busy": "2021-10-24T05:45:40.680623Z",
     "iopub.status.idle": "2021-10-24T05:51:01.169119Z",
     "shell.execute_reply": "2021-10-24T05:51:01.170286Z",
     "shell.execute_reply.started": "2021-10-24T05:40:16.531574Z"
    },
    "papermill": {
     "duration": 320.517547,
     "end_time": "2021-10-24T05:51:01.170673",
     "exception": false,
     "start_time": "2021-10-24T05:45:40.653126",
     "status": "completed"
    },
    "tags": []
   },
   "outputs": [
    {
     "name": "stderr",
     "output_type": "stream",
     "text": [
      "2021-10-24 05:45:43.358635: I tensorflow/compiler/mlir/mlir_graph_optimization_pass.cc:185] None of the MLIR Optimization Passes are enabled (registered 2)\n"
     ]
    },
    {
     "name": "stdout",
     "output_type": "stream",
     "text": [
      "Epoch 1/5\n",
      "4661/4661 [==============================] - 19s 4ms/step - loss: 0.0070 - accuracy: 0.9993 - val_loss: 0.0020 - val_accuracy: 0.9995\n",
      "Epoch 2/5\n",
      "4661/4661 [==============================] - 15s 3ms/step - loss: 0.0018 - accuracy: 0.9996 - val_loss: 0.0016 - val_accuracy: 0.9996\n",
      "Epoch 3/5\n",
      "4661/4661 [==============================] - 15s 3ms/step - loss: 0.0016 - accuracy: 0.9996 - val_loss: 0.0016 - val_accuracy: 0.9996\n",
      "Epoch 4/5\n",
      "4661/4661 [==============================] - 15s 3ms/step - loss: 0.0015 - accuracy: 0.9996 - val_loss: 0.0014 - val_accuracy: 0.9997\n",
      "Epoch 5/5\n",
      "4661/4661 [==============================] - 16s 3ms/step - loss: 0.0015 - accuracy: 0.9997 - val_loss: 0.0014 - val_accuracy: 0.9997\n",
      "{'loss': [0.006962995044887066, 0.001800447003915906, 0.0015910795191302896, 0.0015104934573173523, 0.0014624904142692685], 'accuracy': [0.9993235468864441, 0.999577522277832, 0.9996217489242554, 0.9996479153633118, 0.9996659755706787], 'val_loss': [0.0020127815660089254, 0.001630137674510479, 0.0015810090117156506, 0.001437832834199071, 0.0013893413124606013], 'val_accuracy': [0.9995429515838623, 0.999618411064148, 0.9996492266654968, 0.9996592402458191, 0.9996812343597412]}\n"
     ]
    },
    {
     "data": {
      "image/png": "[encoded data removed]",
      "text/plain": [
       "<Figure size 432x288 with 2 Axes>"
      ]
     },
     "metadata": {},
     "output_type": "display_data"
    },
    {
     "name": "stdout",
     "output_type": "stream",
     "text": [
      "Epoch 1/5\n",
      "4661/4661 [==============================] - 16s 3ms/step - loss: 0.0164 - accuracy: 0.9961 - val_loss: 0.0025 - val_accuracy: 0.9995\n",
      "Epoch 2/5\n",
      "4661/4661 [==============================] - 15s 3ms/step - loss: 0.0020 - accuracy: 0.9995 - val_loss: 0.0018 - val_accuracy: 0.9996\n",
      "Epoch 3/5\n",
      "4661/4661 [==============================] - 15s 3ms/step - loss: 0.0017 - accuracy: 0.9996 - val_loss: 0.0021 - val_accuracy: 0.9995\n",
      "Epoch 4/5\n",
      "4661/4661 [==============================] - 15s 3ms/step - loss: 0.0016 - accuracy: 0.9996 - val_loss: 0.0016 - val_accuracy: 0.9996\n",
      "Epoch 5/5\n",
      "4661/4661 [==============================] - 15s 3ms/step - loss: 0.0016 - accuracy: 0.9996 - val_loss: 0.0015 - val_accuracy: 0.9997\n",
      "{'loss': [0.016406113281846046, 0.0019646105356514454, 0.0017401630757376552, 0.0016253674402832985, 0.0015681771328672767], 'accuracy': [0.9960948824882507, 0.9995364546775818, 0.9995877742767334, 0.9996192455291748, 0.9996347427368164], 'val_loss': [0.0025064265355467796, 0.0018304843688383698, 0.0021462533622980118, 0.0016363569302484393, 0.0015331871109083295], 'val_accuracy': [0.999459981918335, 0.9995731115341187, 0.9994926452636719, 0.9996196627616882, 0.9996604919433594]}\n"
     ]
    },
    {
     "data": {
      "image/png": "[encoded data removed]",
      "text/plain": [
       "<Figure size 432x288 with 2 Axes>"
      ]
     },
     "metadata": {},
     "output_type": "display_data"
    },
    {
     "name": "stdout",
     "output_type": "stream",
     "text": [
      "Epoch 1/5\n",
      "4661/4661 [==============================] - 17s 3ms/step - loss: 0.0096 - accuracy: 0.9991 - val_loss: 0.0024 - val_accuracy: 0.9995\n",
      "Epoch 2/5\n",
      "4661/4661 [==============================] - 15s 3ms/step - loss: 0.0019 - accuracy: 0.9996 - val_loss: 0.0018 - val_accuracy: 0.9996\n",
      "Epoch 3/5\n",
      "4661/4661 [==============================] - 15s 3ms/step - loss: 0.0016 - accuracy: 0.9996 - val_loss: 0.0015 - val_accuracy: 0.9997\n",
      "Epoch 4/5\n",
      "4661/4661 [==============================] - 16s 3ms/step - loss: 0.0015 - accuracy: 0.9996 - val_loss: 0.0014 - val_accuracy: 0.9997\n",
      "Epoch 5/5\n",
      "4661/4661 [==============================] - 16s 3ms/step - loss: 0.0015 - accuracy: 0.9996 - val_loss: 0.0016 - val_accuracy: 0.9996\n",
      "{'loss': [0.009565823711454868, 0.0018910086946561933, 0.001635101274587214, 0.0015321453101933002, 0.0014836173504590988], 'accuracy': [0.9990859031677246, 0.9995735287666321, 0.9996217489242554, 0.9996370673179626, 0.9996458292007446], 'val_loss': [0.0023921076208353043, 0.0017622016603127122, 0.001534173497930169, 0.0014342668000608683, 0.0016290138009935617], 'val_accuracy': [0.999522864818573, 0.9996334910392761, 0.9996529817581177, 0.9996630549430847, 0.9996001720428467]}\n"
     ]
    },
    {
     "data": {
      "image/png": "[encoded data removed]",
      "text/plain": [
       "<Figure size 432x288 with 2 Axes>"
      ]
     },
     "metadata": {},
     "output_type": "display_data"
    },
    {
     "name": "stdout",
     "output_type": "stream",
     "text": [
      "Epoch 1/5\n",
      "4661/4661 [==============================] - 17s 3ms/step - loss: 0.0076 - accuracy: 0.9993 - val_loss: 0.0019 - val_accuracy: 0.9996\n",
      "Epoch 2/5\n",
      "4661/4661 [==============================] - 15s 3ms/step - loss: 0.0018 - accuracy: 0.9996 - val_loss: 0.0017 - val_accuracy: 0.9996\n",
      "Epoch 3/5\n",
      "4661/4661 [==============================] - 15s 3ms/step - loss: 0.0017 - accuracy: 0.9996 - val_loss: 0.0015 - val_accuracy: 0.9997\n",
      "Epoch 4/5\n",
      "4661/4661 [==============================] - 15s 3ms/step - loss: 0.0016 - accuracy: 0.9996 - val_loss: 0.0014 - val_accuracy: 0.9997\n",
      "Epoch 5/5\n",
      "4661/4661 [==============================] - 15s 3ms/step - loss: 0.0015 - accuracy: 0.9997 - val_loss: 0.0013 - val_accuracy: 0.9997\n",
      "{'loss': [0.00758311478421092, 0.0018443643348291516, 0.0016731633804738522, 0.0015614512376487255, 0.0015292795142158866], 'accuracy': [0.9992839694023132, 0.9995982646942139, 0.999624490737915, 0.9996470808982849, 0.9996582269668579], 'val_loss': [0.0018834836082533002, 0.0016521014040336013, 0.001524890074506402, 0.0014044576091691852, 0.0013198461383581161], 'val_accuracy': [0.9995743632316589, 0.9996290802955627, 0.9996567368507385, 0.999673068523407, 0.9996907114982605]}\n"
     ]
    },
    {
     "data": {
      "image/png": "[encoded data removed]",
      "text/plain": [
       "<Figure size 432x288 with 2 Axes>"
      ]
     },
     "metadata": {},
     "output_type": "display_data"
    },
    {
     "name": "stdout",
     "output_type": "stream",
     "text": [
      "mean: 99.9658152461052%std_deviation 0.0035213871640923404%\n"
     ]
    }
   ],
   "source": [
    "\n",
    "kfold = StratifiedKFold(n_splits=4, shuffle=True, random_state=128)\n",
    "\n",
    "k_fold_accuracies = []\n",
    "\n",
    "for k_train, k_test in kfold.split(x_treino,y_treino):\n",
    "    history = build_model().fit(\n",
    "        x_treino[k_train],\n",
    "        y_treino[k_train],\n",
    "        epochs=5,\n",
    "        batch_size=1024,\n",
    "        validation_data=(x_treino[k_test], y_treino[k_test]))\n",
    "\n",
    "    val_acc = history.history['val_accuracy'][-1]\n",
    "    k_fold_accuracies.append(val_acc)\n",
    "    \n",
    "    show_metrics(history)\n",
    "    \n",
    "(mean_acc, std_deviation)= (np.mean(k_fold_accuracies), np.std(k_fold_accuracies))\n",
    "    \n",
    "print(\"mean: \" + str(mean_acc * 100) + \n",
    "          \"%std_deviation \" + str(std_deviation * 100) + \"%\")\n",
    "   "
   ]
  }
 ],
 "metadata": {
  "kernelspec": {
   "display_name": "Python 3",
   "language": "python",
   "name": "python3"
  },
  "language_info": {
   "codemirror_mode": {
    "name": "ipython",
    "version": 3
   },
   "file_extension": ".py",
   "mimetype": "text/x-python",
   "name": "python",
   "nbconvert_exporter": "python",
   "pygments_lexer": "ipython3",
   "version": "3.7.10"
  },
  "papermill": {
   "default_parameters": {},
   "duration": 369.825316,
   "end_time": "2021-10-24T05:51:05.496503",
   "environment_variables": {},
   "exception": null,
   "input_path": "__notebook__.ipynb",
   "output_path": "__notebook__.ipynb",
   "parameters": {},
   "start_time": "2021-10-24T05:44:55.671187",
   "version": "2.3.3"
  }
 },
 "nbformat": 4,
 "nbformat_minor": 5
}
